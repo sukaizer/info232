{
 "cells": [
  {
   "cell_type": "markdown",
   "metadata": {},
   "source": [
    "<div>\n",
    "<img src=\"logo.png\", width=100, ALIGN=\"left\">\n",
    "<center>\n",
    "<h1>Mini Projets 2019-2020 (Info 232)</h1>\n",
    "Isabelle Guyon <br>\n",
    "info232@chalearn.org <br>\n",
    "</center>\n",
    "<span style=\"color:red\"> <h1> 2 . Pandas </h1> </span>\n",
    "    \n",
    "We have now a dataset of pictures of REAL apples and bananas, preprocessed in 4 different representations:\n",
    "- one with only 2 features (<b>R</b>edness and <b>E</b>longation) called <b>RE_data.csv</b>\n",
    "- one with only 21 features (<b>C</b>olor and <b>S</b>hape features) called <b>CS_data.csv</b>\n",
    "- one with 14580 features (all pixels of 81x69x3 <b>raw</b> images) called <b>RAW_data.csv</b>\n",
    "- one with 3072 features (all pixels of 32x32x3 <b>crop</b>ped images) called <b>CROP_data.csv</b>.\n",
    "\n",
    "We will compare the performances of various classifiers on those 4 datasets. Thus, we are going to start doing \"real\" POM: Probability, Optimization, and Modeling. We will proceed in a \"greedy\" way, eliminating some non promising avenues as we go, and not revisiting them for the moment:\n",
    "\n",
    "1. Which dataset version should we keep? Should we or not scale variables (using variable standardization)?\n",
    "2. Which learning machine of a standard toolkit (scikit-learn) is most promising?\n",
    "\n",
    "</div>\n",
    "<div style=\"background:#FFFFAA\">\n",
    "    \n",
    " This TP gives you 5 points if you answer well ALL 5 questions. If you cannot fisnish, get help by attending the Wednesday session.\n",
    "    \n",
    "<span style=\"color:red\"> <b>Save your notebook often with menu File + Save and Checkpoint.</b>\n",
    "<br> <b>Before you push your homework to your GitHub repo, use  Kernel + Restart and Run all.</b>\n",
    "</span>\n",
    "    </div>\n",
    "    "
   ]
  },
  {
   "cell_type": "code",
   "execution_count": 1,
   "metadata": {},
   "outputs": [],
   "source": [
    "# Load general libraries\n",
    "import os, re\n",
    "from glob import glob as ls\n",
    "from PIL import Image\n",
    "import matplotlib.pyplot as plt\n",
    "%matplotlib inline\n",
    "%load_ext autoreload\n",
    "%autoreload 2\n",
    "\n",
    "### Add path to the sample code so the notebook finds it:\n",
    "code_dir = 'code/'                        \n",
    "from sys import path; path.append(code_dir)\n",
    "from utilities import *\n",
    "# Import code that checks your answers\n",
    "from checker import check \n",
    "# Disable some warnings\n",
    "import warnings\n",
    "warnings.simplefilter(action='ignore', category=FutureWarning) "
   ]
  },
  {
   "cell_type": "markdown",
   "metadata": {},
   "source": [
    "# Step 1: Select data representation\n",
    "Which dataset version should we keep? Should we do or not a variable standardization?"
   ]
  },
  {
   "cell_type": "markdown",
   "metadata": {},
   "source": [
    "### Question 0: Examine the data directory\n",
    "Go to the directory `mini-dataset/`. You should find four data files ending with `.csv`. In an editor, open `RL_data.csv` or another of the data files to see how it looks like. The dataset is formatted in the CSV format (comma separated file). The examples are in lines and the features are separated by commas. The first line is the header. \n",
    "\n",
    "Examine all 4 datasets and note the number of lines and columns. Notice that they all have a different number of features but the same number of examples. \n",
    "\n",
    "It is somewhat easier to write a Python program to do this work for you. Check how the function `check_datasets` is written by typing `??check_datasets` in a new cell. Verify with an editor that this is the same code that is found in the directory `code/` in the file `utilities.py`. "
   ]
  },
  {
   "cell_type": "code",
   "execution_count": 2,
   "metadata": {},
   "outputs": [
    {
     "data": {
      "text/plain": [
       "['./mini-dataset/CROP_data.csv',\n",
       " './mini-dataset/CS_data.csv',\n",
       " './mini-dataset/RAW_data.csv',\n",
       " './mini-dataset/RE_data.csv']"
      ]
     },
     "execution_count": 2,
     "metadata": {},
     "output_type": "execute_result"
    }
   ],
   "source": [
    "# List the datasets\n",
    "data_dir = './mini-dataset/'\n",
    "data_list = ls(data_dir + '*_data.csv')\n",
    "data_list"
   ]
  },
  {
   "cell_type": "code",
   "execution_count": 3,
   "metadata": {},
   "outputs": [
    {
     "data": {
      "text/html": [
       "<div>\n",
       "<style scoped>\n",
       "    .dataframe tbody tr th:only-of-type {\n",
       "        vertical-align: middle;\n",
       "    }\n",
       "\n",
       "    .dataframe tbody tr th {\n",
       "        vertical-align: top;\n",
       "    }\n",
       "\n",
       "    .dataframe thead th {\n",
       "        text-align: right;\n",
       "    }\n",
       "</style>\n",
       "<table border=\"1\" class=\"dataframe\">\n",
       "  <thead>\n",
       "    <tr style=\"text-align: right;\">\n",
       "      <th></th>\n",
       "      <th>Dataset</th>\n",
       "      <th>num. examples</th>\n",
       "      <th>num. features</th>\n",
       "      <th>num. apples</th>\n",
       "      <th>num. bananas</th>\n",
       "    </tr>\n",
       "  </thead>\n",
       "  <tbody>\n",
       "    <tr>\n",
       "      <th>0</th>\n",
       "      <td>CROP</td>\n",
       "      <td>491</td>\n",
       "      <td>3073</td>\n",
       "      <td>333</td>\n",
       "      <td>158</td>\n",
       "    </tr>\n",
       "    <tr>\n",
       "      <th>1</th>\n",
       "      <td>CS</td>\n",
       "      <td>491</td>\n",
       "      <td>22</td>\n",
       "      <td>333</td>\n",
       "      <td>158</td>\n",
       "    </tr>\n",
       "    <tr>\n",
       "      <th>2</th>\n",
       "      <td>RAW</td>\n",
       "      <td>491</td>\n",
       "      <td>14581</td>\n",
       "      <td>333</td>\n",
       "      <td>158</td>\n",
       "    </tr>\n",
       "    <tr>\n",
       "      <th>3</th>\n",
       "      <td>RE</td>\n",
       "      <td>491</td>\n",
       "      <td>3</td>\n",
       "      <td>333</td>\n",
       "      <td>158</td>\n",
       "    </tr>\n",
       "  </tbody>\n",
       "</table>\n",
       "</div>"
      ],
      "text/plain": [
       "  Dataset  num. examples  num. features  num. apples  num. bananas\n",
       "0    CROP            491           3073          333           158\n",
       "1      CS            491             22          333           158\n",
       "2     RAW            491          14581          333           158\n",
       "3      RE            491              3          333           158"
      ]
     },
     "execution_count": 3,
     "metadata": {},
     "output_type": "execute_result"
    }
   ],
   "source": [
    "# Check the dataset sizes\n",
    "check_datasets(data_list)"
   ]
  },
  {
   "cell_type": "markdown",
   "metadata": {},
   "source": [
    "<div style=\"background:#FFFFAA\">\n",
    "    Here you need to do something!\n",
    "</div>\n",
    "<b>Show the code of check_datasets.</b>"
   ]
  },
  {
   "cell_type": "code",
   "execution_count": 4,
   "metadata": {},
   "outputs": [],
   "source": [
    "??check_datasets"
   ]
  },
  {
   "cell_type": "markdown",
   "metadata": {},
   "source": [
    "### Question 1: Load and visualize data with Pandas (review)\n",
    "In previous classes we have have started using `Numpy arrays`and `Pandas dataframes`. We now explore Pandas a little bit further. Pandas dataframes are also arrays, but a different kind of python object that Numpy arrays. They have more properties, supporting fancy database functions and having quite a few display functions and nice simple summary statistics, <a href=\"https://pandas.pydata.org/pandas-docs/stable/reference/api/pandas.DataFrame.html\">check the documentation</a>. Learning about Pandas will help a lot the <i>visualization binome</i>.\n",
    "\n",
    "First, you will perform these steps:\n",
    "* Call to UNIX command `!head ./mini-dataset/RE_data.csv` to view the first few lines of the file. The character `!` allows you to \"escape\" from the Jupyter notebook to the UNIX shell.\n",
    "* Load `RL_data.csv` as a pandas dataframe called `df`. Show the first few lines using the method `head`.\n",
    "* Compute simple statistics using the method `describe`.\n",
    "* Show the heat map. If you do not remember from the previous TP, think of using a search engine and type the keywords: \"pandas heatmap\". I found <a href=\"https://stackoverflow.com/questions/12286607/making-heatmap-from-pandas-dataframe\">this post</a>, for instance. \n",
    "* Create a new data frame called `df_scaled` obtained by standardizing the columns of `df`. In the previous TP we used the method `StandardScaler` of `sklearn.preprocessing`. Notice that you can also simply compute the mean of `df` with `df.mean()` and the standard deviation with `df.std()`, then in one line of code get `df_scaled` by performing algebraic operations on dataframes!\n",
    "* We actually doe NOT want to standardize the <b>last column</b> (the class label). Make sure the last column of  `df_scaled` has the ORIGINAL label values +1 or -1.\n",
    "\n",
    "Then, the question you should answer to complete this section is: what are the mean and standard deviation of the lines and the columns of the `redness` and `elongation` features before and after standardization?"
   ]
  },
  {
   "cell_type": "markdown",
   "metadata": {},
   "source": [
    "<div style=\"background:#FFFFAA\">\n",
    "    Here you need to do something!\n",
    "</div>\n",
    "<b>Put here your call to the UNIX command \"head\".</b>"
   ]
  },
  {
   "cell_type": "code",
   "execution_count": 5,
   "metadata": {},
   "outputs": [
    {
     "name": "stdout",
     "output_type": "stream",
     "text": [
      "redness,elongation,fruit\r\n",
      "8.429611650485437,1.4032012759326986,1.0\r\n",
      "42.89607843137255,1.7032009898154288,1.0\r\n",
      "56.354066985645936,1.5508105645577395,1.0\r\n",
      "-10.528846153846153,1.7773426521360935,1.0\r\n",
      "-17.131386861313867,2.047174441534352,1.0\r\n",
      "36.041666666666664,1.4139561143744013,1.0\r\n",
      "34.744932432432435,1.2379057682280559,1.0\r\n",
      "1.8179190751445087,1.0839275628229141,1.0\r\n",
      "3.34106529209622,1.0972000640347488,1.0\r\n"
     ]
    }
   ],
   "source": [
    "!head ./mini-dataset/RE_data.csv"
   ]
  },
  {
   "cell_type": "markdown",
   "metadata": {},
   "source": [
    "<div style=\"background:#FFFFAA\">\n",
    "    Here you need to do something!\n",
    "</div>\n",
    "<b>Read file RE_data.csv as a dataframe and call it \"df\".</b>"
   ]
  },
  {
   "cell_type": "code",
   "execution_count": 6,
   "metadata": {},
   "outputs": [
    {
     "data": {
      "text/html": [
       "<div>\n",
       "<style scoped>\n",
       "    .dataframe tbody tr th:only-of-type {\n",
       "        vertical-align: middle;\n",
       "    }\n",
       "\n",
       "    .dataframe tbody tr th {\n",
       "        vertical-align: top;\n",
       "    }\n",
       "\n",
       "    .dataframe thead th {\n",
       "        text-align: right;\n",
       "    }\n",
       "</style>\n",
       "<table border=\"1\" class=\"dataframe\">\n",
       "  <thead>\n",
       "    <tr style=\"text-align: right;\">\n",
       "      <th></th>\n",
       "      <th>redness</th>\n",
       "      <th>elongation</th>\n",
       "      <th>fruit</th>\n",
       "    </tr>\n",
       "  </thead>\n",
       "  <tbody>\n",
       "    <tr>\n",
       "      <th>0</th>\n",
       "      <td>8.429612</td>\n",
       "      <td>1.403201</td>\n",
       "      <td>1.0</td>\n",
       "    </tr>\n",
       "    <tr>\n",
       "      <th>1</th>\n",
       "      <td>42.896078</td>\n",
       "      <td>1.703201</td>\n",
       "      <td>1.0</td>\n",
       "    </tr>\n",
       "    <tr>\n",
       "      <th>2</th>\n",
       "      <td>56.354067</td>\n",
       "      <td>1.550811</td>\n",
       "      <td>1.0</td>\n",
       "    </tr>\n",
       "    <tr>\n",
       "      <th>3</th>\n",
       "      <td>-10.528846</td>\n",
       "      <td>1.777343</td>\n",
       "      <td>1.0</td>\n",
       "    </tr>\n",
       "    <tr>\n",
       "      <th>4</th>\n",
       "      <td>-17.131387</td>\n",
       "      <td>2.047174</td>\n",
       "      <td>1.0</td>\n",
       "    </tr>\n",
       "  </tbody>\n",
       "</table>\n",
       "</div>"
      ],
      "text/plain": [
       "     redness  elongation  fruit\n",
       "0   8.429612    1.403201    1.0\n",
       "1  42.896078    1.703201    1.0\n",
       "2  56.354067    1.550811    1.0\n",
       "3 -10.528846    1.777343    1.0\n",
       "4 -17.131387    2.047174    1.0"
      ]
     },
     "execution_count": 6,
     "metadata": {},
     "output_type": "execute_result"
    }
   ],
   "source": [
    "df = pd.read_csv(os.path.join(data_dir,'RE_data.csv'))\n",
    "df.head()"
   ]
  },
  {
   "cell_type": "markdown",
   "metadata": {},
   "source": [
    "<div style=\"background:#FFFFAA\">\n",
    "    Here you need to do something!\n",
    "</div>\n",
    "<b>Show descriptive statistics with the method \"describe\".</b>"
   ]
  },
  {
   "cell_type": "code",
   "execution_count": 7,
   "metadata": {},
   "outputs": [
    {
     "data": {
      "text/html": [
       "<div>\n",
       "<style scoped>\n",
       "    .dataframe tbody tr th:only-of-type {\n",
       "        vertical-align: middle;\n",
       "    }\n",
       "\n",
       "    .dataframe tbody tr th {\n",
       "        vertical-align: top;\n",
       "    }\n",
       "\n",
       "    .dataframe thead th {\n",
       "        text-align: right;\n",
       "    }\n",
       "</style>\n",
       "<table border=\"1\" class=\"dataframe\">\n",
       "  <thead>\n",
       "    <tr style=\"text-align: right;\">\n",
       "      <th></th>\n",
       "      <th>redness</th>\n",
       "      <th>elongation</th>\n",
       "      <th>fruit</th>\n",
       "    </tr>\n",
       "  </thead>\n",
       "  <tbody>\n",
       "    <tr>\n",
       "      <th>count</th>\n",
       "      <td>491.000000</td>\n",
       "      <td>491.000000</td>\n",
       "      <td>491.000000</td>\n",
       "    </tr>\n",
       "    <tr>\n",
       "      <th>mean</th>\n",
       "      <td>17.863426</td>\n",
       "      <td>1.468878</td>\n",
       "      <td>0.356415</td>\n",
       "    </tr>\n",
       "    <tr>\n",
       "      <th>std</th>\n",
       "      <td>21.805386</td>\n",
       "      <td>0.521078</td>\n",
       "      <td>0.935280</td>\n",
       "    </tr>\n",
       "    <tr>\n",
       "      <th>min</th>\n",
       "      <td>-47.045455</td>\n",
       "      <td>1.000000</td>\n",
       "      <td>-1.000000</td>\n",
       "    </tr>\n",
       "    <tr>\n",
       "      <th>25%</th>\n",
       "      <td>3.895620</td>\n",
       "      <td>1.161664</td>\n",
       "      <td>-1.000000</td>\n",
       "    </tr>\n",
       "    <tr>\n",
       "      <th>50%</th>\n",
       "      <td>14.380952</td>\n",
       "      <td>1.300111</td>\n",
       "      <td>1.000000</td>\n",
       "    </tr>\n",
       "    <tr>\n",
       "      <th>75%</th>\n",
       "      <td>33.848108</td>\n",
       "      <td>1.598103</td>\n",
       "      <td>1.000000</td>\n",
       "    </tr>\n",
       "    <tr>\n",
       "      <th>max</th>\n",
       "      <td>100.364865</td>\n",
       "      <td>5.231697</td>\n",
       "      <td>1.000000</td>\n",
       "    </tr>\n",
       "  </tbody>\n",
       "</table>\n",
       "</div>"
      ],
      "text/plain": [
       "          redness  elongation       fruit\n",
       "count  491.000000  491.000000  491.000000\n",
       "mean    17.863426    1.468878    0.356415\n",
       "std     21.805386    0.521078    0.935280\n",
       "min    -47.045455    1.000000   -1.000000\n",
       "25%      3.895620    1.161664   -1.000000\n",
       "50%     14.380952    1.300111    1.000000\n",
       "75%     33.848108    1.598103    1.000000\n",
       "max    100.364865    5.231697    1.000000"
      ]
     },
     "execution_count": 7,
     "metadata": {},
     "output_type": "execute_result"
    }
   ],
   "source": [
    "df.describe()"
   ]
  },
  {
   "cell_type": "markdown",
   "metadata": {},
   "source": [
    "<div style=\"background:#FFFFAA\">\n",
    "    Here you need to do something!\n",
    "</div>\n",
    "<b>Show the heat map of \"df\".</b>"
   ]
  },
  {
   "cell_type": "code",
   "execution_count": 8,
   "metadata": {},
   "outputs": [
    {
     "data": {
      "text/plain": [
       "<matplotlib.axes._subplots.AxesSubplot at 0x7f6a9da05630>"
      ]
     },
     "execution_count": 8,
     "metadata": {},
     "output_type": "execute_result"
    },
    {
     "data": {
      "image/png": "[encoded data removed]",
      "text/plain": [
       "<Figure size 432x288 with 2 Axes>"
      ]
     },
     "metadata": {
      "needs_background": "light"
     },
     "output_type": "display_data"
    }
   ],
   "source": [
    "sns.heatmap(df, annot=False)"
   ]
  },
  {
   "cell_type": "markdown",
   "metadata": {},
   "source": [
    "<div style=\"background:#FFFFAA\">\n",
    "    Here you need to do something!\n",
    "</div>\n",
    "<b>Standardize the columns of \"df\", EXCEPT THE LAST ONE.</b>"
   ]
  },
  {
   "cell_type": "code",
   "execution_count": 9,
   "metadata": {},
   "outputs": [
    {
     "data": {
      "text/html": [
       "<div>\n",
       "<style scoped>\n",
       "    .dataframe tbody tr th:only-of-type {\n",
       "        vertical-align: middle;\n",
       "    }\n",
       "\n",
       "    .dataframe tbody tr th {\n",
       "        vertical-align: top;\n",
       "    }\n",
       "\n",
       "    .dataframe thead th {\n",
       "        text-align: right;\n",
       "    }\n",
       "</style>\n",
       "<table border=\"1\" class=\"dataframe\">\n",
       "  <thead>\n",
       "    <tr style=\"text-align: right;\">\n",
       "      <th></th>\n",
       "      <th>redness</th>\n",
       "      <th>elongation</th>\n",
       "      <th>fruit</th>\n",
       "    </tr>\n",
       "  </thead>\n",
       "  <tbody>\n",
       "    <tr>\n",
       "      <th>count</th>\n",
       "      <td>4.910000e+02</td>\n",
       "      <td>4.910000e+02</td>\n",
       "      <td>491.000000</td>\n",
       "    </tr>\n",
       "    <tr>\n",
       "      <th>mean</th>\n",
       "      <td>-1.085350e-16</td>\n",
       "      <td>-8.266752e-16</td>\n",
       "      <td>0.356415</td>\n",
       "    </tr>\n",
       "    <tr>\n",
       "      <th>std</th>\n",
       "      <td>1.000000e+00</td>\n",
       "      <td>1.000000e+00</td>\n",
       "      <td>0.935280</td>\n",
       "    </tr>\n",
       "    <tr>\n",
       "      <th>min</th>\n",
       "      <td>-2.976736e+00</td>\n",
       "      <td>-8.998221e-01</td>\n",
       "      <td>-1.000000</td>\n",
       "    </tr>\n",
       "    <tr>\n",
       "      <th>25%</th>\n",
       "      <td>-6.405668e-01</td>\n",
       "      <td>-5.895726e-01</td>\n",
       "      <td>-1.000000</td>\n",
       "    </tr>\n",
       "    <tr>\n",
       "      <th>50%</th>\n",
       "      <td>-1.597070e-01</td>\n",
       "      <td>-3.238798e-01</td>\n",
       "      <td>1.000000</td>\n",
       "    </tr>\n",
       "    <tr>\n",
       "      <th>75%</th>\n",
       "      <td>7.330612e-01</td>\n",
       "      <td>2.479972e-01</td>\n",
       "      <td>1.000000</td>\n",
       "    </tr>\n",
       "    <tr>\n",
       "      <th>max</th>\n",
       "      <td>3.783535e+00</td>\n",
       "      <td>7.221221e+00</td>\n",
       "      <td>1.000000</td>\n",
       "    </tr>\n",
       "  </tbody>\n",
       "</table>\n",
       "</div>"
      ],
      "text/plain": [
       "            redness    elongation       fruit\n",
       "count  4.910000e+02  4.910000e+02  491.000000\n",
       "mean  -1.085350e-16 -8.266752e-16    0.356415\n",
       "std    1.000000e+00  1.000000e+00    0.935280\n",
       "min   -2.976736e+00 -8.998221e-01   -1.000000\n",
       "25%   -6.405668e-01 -5.895726e-01   -1.000000\n",
       "50%   -1.597070e-01 -3.238798e-01    1.000000\n",
       "75%    7.330612e-01  2.479972e-01    1.000000\n",
       "max    3.783535e+00  7.221221e+00    1.000000"
      ]
     },
     "execution_count": 9,
     "metadata": {},
     "output_type": "execute_result"
    }
   ],
   "source": [
    "# Put your code here\n",
    "df_scaled = (df - df.mean())/df.std()\n",
    "df_scaled.iloc[:,-1] = df.iloc[:,-1]\n",
    "df_scaled.describe()"
   ]
  },
  {
   "cell_type": "markdown",
   "metadata": {},
   "source": [
    "<div style=\"background:#FFFFAA\">\n",
    "    Here you need to do something!\n",
    "</div>\n",
    "<b>Your final answers to question 1. </b> What are the mean and standard deviation of the lines and the columns of the `redness` and `elongation` features before and after standardization?"
   ]
  },
  {
   "cell_type": "code",
   "execution_count": 10,
   "metadata": {},
   "outputs": [
    {
     "name": "stdout",
     "output_type": "stream",
     "text": [
      "39.658768\n",
      "39.6587674942419\n"
     ]
    },
    {
     "data": {
      "text/html": [
       "<div style=\"background:#00FF00\">CORRECT<br>:-)</div>"
      ],
      "text/plain": [
       "<IPython.core.display.HTML object>"
      ]
     },
     "metadata": {},
     "output_type": "display_data"
    }
   ],
   "source": [
    "question = 1\n",
    "score = 0\n",
    "# Put your answers to question 1 here\n",
    "redness_mean_before, elongation_mean_before, label_mean_before = 17.863426, 1.468878, 0.356415\n",
    "redness_std_before, elongation_std_before, label_std_before = 21.805386, 0.521078, 0.935280\n",
    "redness_mean_after, elongation_mean_after, label_mean_after = -1.085350e-16, -8.266752e-16, 0.356415\n",
    "redness_std_after, elongation_std_after, label_std_after = 1.000000e+00, 1.000000e+00, 0.935280\n",
    "\n",
    "# This is the checker code, keep it\n",
    "answer = redness_mean_before+elongation_mean_before+label_mean_before\n",
    "answer += redness_std_before+elongation_std_before+label_std_before\n",
    "answer -= redness_mean_after+elongation_mean_after+label_mean_after\n",
    "answer -= redness_std_after+elongation_std_after+label_std_after\n",
    "score += check(answer, question)"
   ]
  },
  {
   "cell_type": "markdown",
   "metadata": {},
   "source": [
    "### Question 2: Write a function to standardize data\n",
    "It is often useful to `standardize` the columns of the data matrix to put all values in a similar scale, so to facilitate re-using this operation, write a function that takes as input a data frame `df` containing a dataset and returns a dataframe `df_scaled` with the columns standardized <b>EXCEPT THE TARGET VALUES</b> of the last column (use your answers to the previous section). Use this template for your code:\n",
    "\n",
    "    def standardize_df(df):\n",
    "    '''Standardize all the columns except the last one (target values).'''\n",
    "    # YOUR CODE HERE\n",
    "    return df_scaled\n",
    "    \n",
    "Test your function with the same dataframe as in the previous questions and use the methods `head` and `describe` to verify that all the columns are standardized, except the last one. Notice that, due to machine precision, you may not get exactly mean=0 and std=1."
   ]
  },
  {
   "cell_type": "code",
   "execution_count": 11,
   "metadata": {},
   "outputs": [],
   "source": [
    "#all_data_df[0][:-1]"
   ]
  },
  {
   "cell_type": "code",
   "execution_count": 12,
   "metadata": {},
   "outputs": [
    {
     "data": {
      "text/html": [
       "<div>\n",
       "<style scoped>\n",
       "    .dataframe tbody tr th:only-of-type {\n",
       "        vertical-align: middle;\n",
       "    }\n",
       "\n",
       "    .dataframe tbody tr th {\n",
       "        vertical-align: top;\n",
       "    }\n",
       "\n",
       "    .dataframe thead th {\n",
       "        text-align: right;\n",
       "    }\n",
       "</style>\n",
       "<table border=\"1\" class=\"dataframe\">\n",
       "  <thead>\n",
       "    <tr style=\"text-align: right;\">\n",
       "      <th></th>\n",
       "      <th>redness</th>\n",
       "      <th>elongation</th>\n",
       "      <th>fruit</th>\n",
       "    </tr>\n",
       "  </thead>\n",
       "  <tbody>\n",
       "    <tr>\n",
       "      <th>0</th>\n",
       "      <td>-0.432637</td>\n",
       "      <td>-0.126039</td>\n",
       "      <td>1.0</td>\n",
       "    </tr>\n",
       "    <tr>\n",
       "      <th>1</th>\n",
       "      <td>1.148003</td>\n",
       "      <td>0.449690</td>\n",
       "      <td>1.0</td>\n",
       "    </tr>\n",
       "    <tr>\n",
       "      <th>2</th>\n",
       "      <td>1.765190</td>\n",
       "      <td>0.157238</td>\n",
       "      <td>1.0</td>\n",
       "    </tr>\n",
       "    <tr>\n",
       "      <th>3</th>\n",
       "      <td>-1.302076</td>\n",
       "      <td>0.591975</td>\n",
       "      <td>1.0</td>\n",
       "    </tr>\n",
       "    <tr>\n",
       "      <th>4</th>\n",
       "      <td>-1.604870</td>\n",
       "      <td>1.109809</td>\n",
       "      <td>1.0</td>\n",
       "    </tr>\n",
       "  </tbody>\n",
       "</table>\n",
       "</div>"
      ],
      "text/plain": [
       "    redness  elongation  fruit\n",
       "0 -0.432637   -0.126039    1.0\n",
       "1  1.148003    0.449690    1.0\n",
       "2  1.765190    0.157238    1.0\n",
       "3 -1.302076    0.591975    1.0\n",
       "4 -1.604870    1.109809    1.0"
      ]
     },
     "execution_count": 12,
     "metadata": {},
     "output_type": "execute_result"
    }
   ],
   "source": [
    "# Replace by your own code:\n",
    "def standardize_df(df):\n",
    "    '''Standardize all the columns except the last one (target values).'''\n",
    "    df_scaled = (df - df.mean())/df.std()\n",
    "    df_scaled.iloc[:,-1] = df.iloc[:,-1] \n",
    "    return df_scaled\n",
    "\n",
    "df_scaled2 = standardize_df(df)\n",
    "df_scaled2.head()"
   ]
  },
  {
   "cell_type": "code",
   "execution_count": 13,
   "metadata": {},
   "outputs": [
    {
     "data": {
      "text/html": [
       "<div>\n",
       "<style scoped>\n",
       "    .dataframe tbody tr th:only-of-type {\n",
       "        vertical-align: middle;\n",
       "    }\n",
       "\n",
       "    .dataframe tbody tr th {\n",
       "        vertical-align: top;\n",
       "    }\n",
       "\n",
       "    .dataframe thead th {\n",
       "        text-align: right;\n",
       "    }\n",
       "</style>\n",
       "<table border=\"1\" class=\"dataframe\">\n",
       "  <thead>\n",
       "    <tr style=\"text-align: right;\">\n",
       "      <th></th>\n",
       "      <th>redness</th>\n",
       "      <th>elongation</th>\n",
       "      <th>fruit</th>\n",
       "    </tr>\n",
       "  </thead>\n",
       "  <tbody>\n",
       "    <tr>\n",
       "      <th>count</th>\n",
       "      <td>4.910000e+02</td>\n",
       "      <td>4.910000e+02</td>\n",
       "      <td>491.000000</td>\n",
       "    </tr>\n",
       "    <tr>\n",
       "      <th>mean</th>\n",
       "      <td>-1.085350e-16</td>\n",
       "      <td>-8.266752e-16</td>\n",
       "      <td>0.356415</td>\n",
       "    </tr>\n",
       "    <tr>\n",
       "      <th>std</th>\n",
       "      <td>1.000000e+00</td>\n",
       "      <td>1.000000e+00</td>\n",
       "      <td>0.935280</td>\n",
       "    </tr>\n",
       "    <tr>\n",
       "      <th>min</th>\n",
       "      <td>-2.976736e+00</td>\n",
       "      <td>-8.998221e-01</td>\n",
       "      <td>-1.000000</td>\n",
       "    </tr>\n",
       "    <tr>\n",
       "      <th>25%</th>\n",
       "      <td>-6.405668e-01</td>\n",
       "      <td>-5.895726e-01</td>\n",
       "      <td>-1.000000</td>\n",
       "    </tr>\n",
       "    <tr>\n",
       "      <th>50%</th>\n",
       "      <td>-1.597070e-01</td>\n",
       "      <td>-3.238798e-01</td>\n",
       "      <td>1.000000</td>\n",
       "    </tr>\n",
       "    <tr>\n",
       "      <th>75%</th>\n",
       "      <td>7.330612e-01</td>\n",
       "      <td>2.479972e-01</td>\n",
       "      <td>1.000000</td>\n",
       "    </tr>\n",
       "    <tr>\n",
       "      <th>max</th>\n",
       "      <td>3.783535e+00</td>\n",
       "      <td>7.221221e+00</td>\n",
       "      <td>1.000000</td>\n",
       "    </tr>\n",
       "  </tbody>\n",
       "</table>\n",
       "</div>"
      ],
      "text/plain": [
       "            redness    elongation       fruit\n",
       "count  4.910000e+02  4.910000e+02  491.000000\n",
       "mean  -1.085350e-16 -8.266752e-16    0.356415\n",
       "std    1.000000e+00  1.000000e+00    0.935280\n",
       "min   -2.976736e+00 -8.998221e-01   -1.000000\n",
       "25%   -6.405668e-01 -5.895726e-01   -1.000000\n",
       "50%   -1.597070e-01 -3.238798e-01    1.000000\n",
       "75%    7.330612e-01  2.479972e-01    1.000000\n",
       "max    3.783535e+00  7.221221e+00    1.000000"
      ]
     },
     "execution_count": 13,
     "metadata": {},
     "output_type": "execute_result"
    }
   ],
   "source": [
    "df_scaled2.describe()"
   ]
  },
  {
   "cell_type": "code",
   "execution_count": 29,
   "metadata": {},
   "outputs": [
    {
     "name": "stdout",
     "output_type": "stream",
     "text": [
      "True\n",
      "1\n"
     ]
    },
    {
     "data": {
      "text/html": [
       "<div style=\"background:#00FF00\">CORRECT<br>:-)</div>"
      ],
      "text/plain": [
       "<IPython.core.display.HTML object>"
      ]
     },
     "metadata": {},
     "output_type": "display_data"
    }
   ],
   "source": [
    "# This is the checker code, keep it\n",
    "question = 2\n",
    "answer = (df_scaled == df_scaled2).all().all()\n",
    "score += check(answer, question)"
   ]
  },
  {
   "cell_type": "markdown",
   "metadata": {},
   "source": [
    "### Question 3: Select the best representation\n",
    "We are now going to loop over all datasets and compare the performance of our baseline method (one nearest neighbor classifier) with and without variable scaling. \n",
    "\n",
    "First you will perform these steps (with some help):\n",
    "* Import `KNeighborsClassifier` from the scikit-learn library (`sklearn`) and instanciate a one nearest neighbor classifier that you will call `sklearn_model`. Also import the `balanced_accuracy_score` and name it `sklearn_metric`.\n",
    "* Call `df_cross_validate(df, sklearn_model, sklearn_metric)` and collect the results, then print the training and test performance and their error bars. <b>Tip:</b> look at the bottom of the code using `??df_cross_validate` to get an idea on how to print the results. \n",
    "* Create:\n",
    " * a list containing all the dataset dataframes and call it `all_data_df`\n",
    " * a list containg all the dataset names and call it `data_name`. \n",
    "* Run the function `systematic_data_experiment(data_name, all_scaled_data_df, sklearn_model, sklearn_metric)` and display the results.\n",
    "* <b>Create a list</b> containing all the SCALED datasets (variables standardized) and call it `all_scaled_data_df`.\n",
    "* Run again `systematic_data_experiment` on `all_scaled_data_df` and display the results.\n",
    "* Fuse the results of the two previous question by creating a dataframe called `joint_results`. Assign `result_scaling.perf_te` to a column called `'SCALED'` and `result_noscaling.perf_te` to a column called `'NOT SCALED'`. Display the results.\n",
    "* Visualize `joint_results` with a histogram. Check <a href=\"https://pandas.pydata.org/pandas-docs/stable/reference/api/pandas.DataFrame.plot.bar.html\">this documentation</a>.\n",
    "\n",
    "Then the questions you should answer are:\n",
    "* Does re-scaling variables always help?\n",
    "* Is which case does it help most?\n",
    "\n",
    "Try to reason why this might be."
   ]
  },
  {
   "cell_type": "markdown",
   "metadata": {},
   "source": [
    "<div style=\"background:#FFFFAA\">\n",
    "    Here you need to do something!\n",
    "</div>\n",
    "<b>Make necessary changes; USE THE DOCUMENTATION OF SCIKIT LEARN (do not copy on your neighbor).</b> "
   ]
  },
  {
   "cell_type": "code",
   "execution_count": 15,
   "metadata": {},
   "outputs": [],
   "source": [
    "from sklearn.neighbors import KNeighborsClassifier # Replace that by nearest neighbors\n",
    "from sklearn.metrics import balanced_accuracy_score as sklearn_metric # Replace that by balanced accuracy \n",
    "sklearn_model = KNeighborsClassifier(n_neighbors=1) # Replace by ONE nearest neighbor"
   ]
  },
  {
   "cell_type": "markdown",
   "metadata": {},
   "source": [
    "<div style=\"background:#FFFFAA\">\n",
    "    Here you need to do something!\n",
    "</div>\n",
    "<b>Collect the results of df_cross_validate(df, sklearn_model, sklearn_metric).</b> "
   ]
  },
  {
   "cell_type": "code",
   "execution_count": 16,
   "metadata": {},
   "outputs": [
    {
     "name": "stdout",
     "output_type": "stream",
     "text": [
      "TRAIN: [ 66 199 123 222 447 248  34 444 268 157 216 300 200  72 210 273 295 121\n",
      " 481 356 170  64 408 345 379 471 245 234 244 485 110 116 139 117 369 109\n",
      " 285 415 130 183 224 134 205 469 218 156 184 262 264  31 317 384  90 186\n",
      " 103  70 219 148  65 231 483 486 460 220  99 312 318 131 145  55 487 383\n",
      " 399 164 326  33 327 393 160 135 404  28  86  41 190 350 394 232 452 260\n",
      " 361 201 348 178  32 149 132 387  50  27 243 453 267 225  13 266 414 175\n",
      " 358 405 420 426 194 122 474 198 334 339 177 343 390 381 140 171 429 127\n",
      " 457 187  47  56 281 337 241 322 169 275 107 402  40 324 247 372 407 255\n",
      " 376 256 221 228 165 303 385  53 370 309 310 359 308 305 314 437 421 302\n",
      " 472 162 163 212 435 108 100 467 464 325 150   9  60   7 141 449  71  44\n",
      " 144 151 375 242 397 277 235 455 425 101 353 386 193  49  62 456 138  63\n",
      "   0 396 389 208 403 195 373 412 323 355  18 276  43 155 176 282  75 223\n",
      " 147  21 368 274 428 283 111  98 126 417 118  52 237 466 297 354 125 448\n",
      " 459 191 490 230 189 382 153 279 197 410 188] TEST: [211 395 236  61 252 203 488  79 409 418 113 479  42 431 129 328  17 278\n",
      " 185  23 296 270 136 320 391 233  12 344 424 167 251 215  26 333 319 439\n",
      "  83 311  51 416  14 341 226   3 364  10 263 433  36   2  88 367  85 261\n",
      " 422 365 461 411 443 265 269 105 360 182  16 146 259  78 475 294 313 154\n",
      " 307 213 489 438 366 115 470  69 196 214 304 316  77 480 340  45  59 258\n",
      " 137 271 458 419  22   8 239  29  89 280 336   5  74 468 181   1 207 152\n",
      " 378  48 249 342 454 332 380 204 347 446 445 292 392 209 272 291 363 440\n",
      "  95  11  76 180 217 287 142 463  20 179 143 406 102 159  82  15 119  91\n",
      " 330 329 374 246 462 284 451 120 166 301  97 289 114  93  38 192   4  84\n",
      " 362   6 371  37 106  39  24 346  57 413 202 335 398 124  19 432 250 206\n",
      " 478 442 436 401 482 377 174 484 112 423 357 227  96 315  54  68 161  73\n",
      "  46 158 465 400 172 128 477 257 434 288 427 388 351 168 306  94  81 349\n",
      " 254  58 473  67  80 240 450  30 321 286 430 331  92 293 133  35 173 476\n",
      " 299 238  25 338 352 298 253 290 229  87 104 441]\n",
      "TRAINING PERFORMANCE METRIC 1.0\n",
      "TEST PERFORMANCE METRIC: 0.6497384976881679\n",
      "TRAIN: [109  89 320 268  42 278 362  90 344 185 255   4  74  87 222 230  86 370\n",
      " 420 163 130 305 287 137 319 189 176 188 108 190  55 264 284 306 485 192\n",
      " 138 217 437   0 455 234 289 338 186 213 141 114 117 285  28  51  32 131\n",
      " 435 387 340 249  24 380 274 216 167 341 379 206 474 371 271 425 175 450\n",
      " 103 383 394 267  21  76 229 447 292 123  94  82 151 452 168 378  70 470\n",
      " 296 184 199 251 334 314 479 374 232 172  68 191  13 449 361 164 139 414\n",
      " 281 211 282 475 466 212 233  18 155 242   9 321 406 324 312 395  56 107\n",
      "  53  44 193  29 396  31 327 273 389 486 388  39 469 125  78 147 152 231\n",
      " 203 210 343 384  17 166  61 261 252 412 105  91 355 463 311 263 286 113\n",
      " 482 180  97 149 333 354 290 436 260 461 256 489 369 423 132 326  88 410\n",
      " 201  69 154 427 265  12 471 376 181 401 484  72 483   1 143  54 386 359\n",
      "  99 115 245  36 405 328 208 182  59 243 342 391 241  26  34 418 300  73\n",
      " 358 335 315  10 197 269 360 468 460 417  79 304 322 409 363 476 247 400\n",
      " 332 236 473 459 331 194 443  25 438  96 224] TEST: [472  38 111  71 451 173 101 244 135 313 349  45 404 140 129 480  67 464\n",
      " 170 488 144  85 272 177   6 119 254 262   8 275 440  75 385 487 302  57\n",
      " 442 116 156  50 218 259 415 308 407 200  83  64 215 196  27 118 214 202\n",
      "  30  58  20  66 122 393 235 456 337 367  95 228 399 142 434 299 209 207\n",
      " 204  92 346 226 330 478 288 276 169 121 403 124 429 318 270 198  33 372\n",
      "   7 157 428  80 381 307 295 345 348 110  19  52 301 416 128 165 431 112\n",
      " 159  43 279 238 309   5 161 183 351 146 365 246  62 377 162 465 102 136\n",
      " 424 174 356  14 153 445  98 253 477 277   2 422 490 239 298 205 454 283\n",
      " 329 258 481 280 248  41  46 223  48  47 316  77 266 467  65 323  49 240\n",
      " 433 350 100 179 225 227 336 368 448 148 195 150 382 250 366 353 453 402\n",
      " 408 432 364 397 458 257 104  84 352 187 398 219 357 178  63 297 291 106\n",
      " 134 339 390  16 439 120  15 160 158 293 220 347 462 441 375  11 145  60\n",
      " 430 127  23 317 444 413 426  37 126  81 411 221 303 457  35 310 446   3\n",
      "  40  22  93 133 171 419 294 421 325 373 237 392]\n",
      "TRAINING PERFORMANCE METRIC 1.0\n",
      "TEST PERFORMANCE METRIC: 0.644091563708027\n",
      "TRAIN: [143 291 433 269 387  93 415 357 426 467 208  71 278 429 275 298 449 115\n",
      " 210 340 262 232 230 167 103 315  16  46 332  79  59 255 192 141 265 127\n",
      "   9  86  36   5 402 464  89  25 465 414 469 393 454 264 183  28 112 382\n",
      " 356 285 241 317 270  87 128 352 250   1 292  95  17 397 358 209 248 424\n",
      " 373 247 237 198 300  37 441 159 174 188 470  11 181 436  68 125 240 354\n",
      "  82 420 110  98 343 314 185 126 488 398  62 299 131 419 287 173 272 475\n",
      " 301 178 345 442 122 463 453  77  50 175 109 410  61 395 348 479 279 229\n",
      " 316  47 207 485 437  54 133  40 347 289 431  66 490 417  15 256 239 191\n",
      "  58 176 336 274  51 263 313 338  19 253 214 443 359 389 477 319 171   2\n",
      " 439 362  41 331 216 321  42 341 225 246  83 430  13 139 259  69 142  20\n",
      " 392 187 455 444 218 364 428  57 326 104 144 231 123 213  14  12 160  49\n",
      " 138 461 324 234  76 163  55 384   0 177 186 412 297 224 273   4 458 401\n",
      " 335  45 446  18 211 124 421 375 113  65 471  27 457  38 276 303 233 281\n",
      " 391 432  97 283 427 194 245 355 388 130 342] TEST: [413 310  44 179 267 219 102 383  94 376 223  29 169 330  26  80 100 363\n",
      " 118 114 106 438 304 153 372 484 405 325 328  39 137 180 344 480 440  10\n",
      " 425 407 184 396 252 190 290 329 386 353  21 452 111 202 129 311 416 266\n",
      " 327 409 260 378 156 400 361 150 238 226  33  30 293 379 377 203 196 371\n",
      " 309 135  84 242  32 235 280 222   7 487  34 195 166 170 459 288 204 155\n",
      " 158 249 312 221 227 200  31 119 205  90  92 206 284 450 117 365  99 286\n",
      " 445 472   3 217 236 322 145 295  52 243 193 212 381 339 462 244 154 151\n",
      " 121 261 108 404 161 466  22  73 199 434 474 367 334 165 189  75 349 164\n",
      " 302 215 258 468 460 390 228  23  60 296 337 157 483 394 333  24 162 268\n",
      " 399 101 254 403 346 306 374 380 451 146 271 489 120  63 478 418 168  35\n",
      " 435 351 447 294 308 307  85  72  48 105   6 320 323 149 152 107 408  96\n",
      "  56 318  53 134 411 116  64 197  74 385 406 476 473  91 422 368 370 220\n",
      " 448 482  78 350  67 277 257 282   8  43 132 182 486 148 147 423  81 366\n",
      " 369 456 251 305 360  70 140 136 201  88 481 172]\n",
      "TRAINING PERFORMANCE METRIC 1.0\n",
      "TEST PERFORMANCE METRIC: 0.6334040779201091\n",
      "TRAIN: [231 196 191 297 317 138 312  16 379 439 319 122 446 295 318 381 339 188\n",
      " 401 250  92 341 344 337 410  49 109 244 253 333 413  82 158 175 430 230\n",
      " 170   8 226 462 399  38 426 259 421 126 441 293 389 239 168 124 260 398\n",
      " 252 177 482 289  11 271 217 205 172 388 422  74 402 249 305 140 382 412\n",
      " 459 400 419 392 342 313 447  18 207 213 156 187 327 475 211 472 245 284\n",
      " 460 141 434 144 438 210 281  99  91 335 102  20 480 268 157 393 309 148\n",
      "  48 111 316 100 233 101 222 179 142 357 166 454 251 131 278 287 353 395\n",
      " 283 364  77 265 414 190 225  41 355 181 135 348  59 107 464 224  23 372\n",
      " 275 234 167 134 433  70 154 440 356 308 461 451 431   5  15 325  81 304\n",
      " 456 367 173 237   7  84  54 132 276 194 369  95 163 139 243 155  27 121\n",
      "  17  63  40 241 436  42 185 174 292 377 232 429 291  44 332  14   0 228\n",
      " 212 352 246 169 214 444 235 467  73 294 409 380 458 366  62 487 425 206\n",
      "  85 437 417 258 476 270   1 296 415 216 435  80 195 483 125  61  58 274\n",
      " 489  98 280 238  57 468  39 103  10 117 311] TEST: [ 53  72 219 450 302  94 118 354 152 390 485 161 180 153  25 197 129 360\n",
      " 455 428 113  22  24 223 267 182 478 420 346 120 371 184 269  69  93 387\n",
      " 114 368 261 391 326 416   3 378 463 418  43 240 215 136 404 361 408 199\n",
      "   6 477 351 248 486 448 432 299 405  45 303  67 149 469 277 330  88 176\n",
      " 484 340 242 256 397 133  37 255 406 328 479 474 481 227  47 365 322 137\n",
      " 298  60 236 290 171 370 104 443 385  83 229 320 331  28 321 470 466 220\n",
      " 465 123 151 164 349 488  12  30 112 193 347  75 363 115 145 490  87 257\n",
      " 323  26 300  46 427 165  21  34  13 119 202  97 279 128 350 282 218 359\n",
      " 442 376  32  66  76 116 201 203 159  35 386   2  71  78 108   4  50 373\n",
      " 329 453 457 403  79  68 301 288 343 473 143 247 358 383 306 150 307 336\n",
      " 471  29 384 178 424 262 324 110 334  36 396   9  52 263 192 160 338  86\n",
      "  64 407 200 209  89 315 189 254 162  90 411 362 264 146 345  55  56 445\n",
      " 394  65 208 204 266 147 449 105 183  31 221 186 272 198  96 273 423 106\n",
      " 452 286 285  19 310  51 375 374 314  33 130 127]\n",
      "TRAINING PERFORMANCE METRIC 1.0\n",
      "TEST PERFORMANCE METRIC: 0.6330629879481543\n",
      "TRAIN: [ 14 453 365 195 308 158 356 386 330 180 368 312  16  75 402 176 225 151\n",
      " 344 351 162 112  84 230 461 443 435 227 221 217 421 181 325 138 194 242\n",
      " 319  29 284 289  37  26 404 166 382 202  28 347 218 384 263 267 130 420\n",
      " 445  22 231  67 470 381 302 170 219  80 209  95 440 203 329 484 192 148\n",
      " 450 189 451 136 141 331  87 282 198 403 208 476  82 395 276  56 434 145\n",
      "  18 335 387 121 200 196 486 406 324 167 104 489 360 224 338 448 253 358\n",
      "  58 416 462  15 333 157  19 352 304 313 464 254 205 204 236  49  89  41\n",
      " 127 182 322 438 129 485 107  21 258 481   9 214 165 316  24 216 159 473\n",
      "  61  32 311 125  66 361 455  27 106 315 457 139 463 126 260 399 273  86\n",
      " 270 259 380 266 417 396 285 226 370   4 334 251 410  74 186   2 357 369\n",
      "  35 433  45 269 250 355  83 117 132  40   8 469 174 364 426 201 349 465\n",
      " 212 296  44 234 378 320 135 441 244 277 385 235 197 447 183 474 375 411\n",
      " 110 398 193   1 419 327 179 275 292  92  38 393 389 156  59 229 339 114\n",
      " 413  10  33 146   7  11 323 280  43 238 154] TEST: [ 39  42   5 305 105 168 246 287 407 490 262 286 213 173  79 122 372 471\n",
      " 328  48  12  63  20 150  77 409 294 337 348 303 341 332 295 478  60 321\n",
      " 391 261   3 256  34  51 354 418 480 228 232 153 113  99 444 271 394 243\n",
      "  70 101 326 111 483 340 439  98 239 405 362 309 467  88 257 178 363 377\n",
      " 268 414 264 241 390 116 424  31 459  96 103 428 247 472 383  52 400 423\n",
      "  55 376 342  53 482  17 155 210 240 427  97 207 279 468 422 143  64 436\n",
      " 147  13 187 317 374 299   0 442 300 164 297  62 379 314 272 437 336 188\n",
      " 306 432 171 119 149 318  23  94  36 449  47 248 412 140 120 118 160 415\n",
      "  93 408 175 293 190 454 191 108 388 343 177 142  46 488 446 255 278 290\n",
      " 425  69 367 274 431 206  30 184 392 211  78 233 115 245  91 466 452 346\n",
      " 477 345 288  68 249 123 475 163  25  57 456 460  72 265 223 298 169  90\n",
      "  81 100 350 172 252 144 134  85 487 109 281 283 371 479 458 291 237  50\n",
      " 307 161 199 429 131 124 133 401 366 359 102 215 397  54 430 220  73 222\n",
      "   6 301 137  71 185 128 353 310  65  76 373 152]\n",
      "TRAINING PERFORMANCE METRIC 1.0\n",
      "TEST PERFORMANCE METRIC: 0.6587205336163117\n",
      "TRAIN: [104  25 172 405  90 271 348 467 384  41 277  78 220 334 356 430  14 155\n",
      " 331  68 364 290 130 482 256 372 437  92 238 451  43  88 480 351   1 329\n",
      " 363 419 217  74 116  86 413  18 267 421 254 186  26 189 312 201 265 128\n",
      " 240 297 477 214  59 120 386 168 129 463 317 141 158 178 309  89 237 283\n",
      " 101 433 409 188   9 282 343 404 262 133 324 123 377 222  48 393 219 397\n",
      " 332 415  12 181 375 326 417 466 454  40 197 310 435 315 115 273 118 139\n",
      " 152 143 132 298 198 455 167 173 346 353 485 427 401 471  69 400  55  38\n",
      "  29 169  85 289  57 306 308 156 358 373 226 245 366 395 112 218 147 403\n",
      " 336 111 255  87 359 175  11 117 307  23 345 243 131  15 144 106 292 246\n",
      " 253 450  80 184 355 376 341 392 287 258 150 142 209 125 347 206 432 446\n",
      "  79 252  37 481 191 453 145 204 449 442 314 354 342  67 436 378 459  96\n",
      "  16 457 108  98  73 174 223 487 272 406 484  81 302 229  53 291 279   2\n",
      " 124 242 303 228  31 490  63 444 431 202  19  45 180 192 428 443 399 388\n",
      "  64 182 166  33 370  39  44  17 161 190 320] TEST: [380 390 439 203   3  52 251 127 362 398 381 286 165 394 389  60 418 216\n",
      " 352  42  66 194 149 176 230 270 349 304 434  76 486 474 426 136 472 185\n",
      " 278  36 102 361 225 285 296 476  24 244 440 408  34 473 360 196   0 462\n",
      " 259 468 274 140  47  61 330 280 461  51  65 221 212 382 249  95 371 328\n",
      " 100 207 261  30  27  75 410  83  32  84  50  46 425 210 260 340 234 137\n",
      " 135 489 322 205 313 276 464 109 250 367 385 295 159 391 154 263 488 121\n",
      " 299 456 171 248 294 325  99 195 469   4 305 379 448 422 157 396  77 119\n",
      " 215 113 211 146  54 316 227  62 383 368  70 447 338 357  91  71 164 301\n",
      " 148 187 268 475 339  13 288 264 284  94 153 387 318 114 231  20 199 424\n",
      "  97 122  58 193   6 374 452 460 281 335  28 160 337 365 247 275 369 300\n",
      " 311 110   5 478 411 445 239 321 323 319 232 213 235 407   8   7  82 412\n",
      " 479 107 423 233 200  10 327 170 483 138 293 105 344 266 470  21  49 151\n",
      " 208 134 465  22 441 414 438 236  93 257  72 179 162 224 241 163 269 103\n",
      " 177 183 458 333  35 350 402  56 420 416 429 126]\n",
      "TRAINING PERFORMANCE METRIC 1.0\n",
      "TEST PERFORMANCE METRIC: 0.7070416129765784\n",
      "TRAIN: [221 411 165 363 367 297 196 439  74 267 182 306  42 224 349 389 336  10\n",
      "  46  59 101 237 298 273  88 374 371 249 341 259  21 319 283 489  57  83\n",
      " 305 445  71 307  60 414 287  41 112 174 365 268 463 157 133   4 152 284\n",
      " 251 156 487 132 204 141 242 257 394  17  52 149 134 308 135   1 475 470\n",
      "  91 138 291 121 229 275  49 124 454 415  23 202 486 338  31 292 117 458\n",
      "  68  84 464 356 384 173 410 340 478 170 443 393 136 449 256  73 317  40\n",
      "  95 254 107 260 320 397 433 372 166 313 235 357 281  75 200  56  53 238\n",
      " 179 129 482 418 219 140 451  61  97 483  77 311  65  26 286 158 111 348\n",
      " 416  34 447 282  35 276  45 150 485 362 113 395 212 122 469 285 299 425\n",
      " 480 220 188 453 426 186 404  96 437 279  48 178 378 104 119 344 369 396\n",
      " 250 490   5 462  43 218 214 161  63 409  38 253 105 223 294 352  13 476\n",
      " 153 407 388 195 125 233 379 213 280 151  39 459 360   7 207 169 423 222\n",
      "  98 326 392 446 381 139 123 322 351  93  81 448 441 339 325 288  33 421\n",
      "  72 488 420  58   9 243  51  85  50  15  37] TEST: [144 109  90 108 189 324  12 146 217 408 184 239 435 270 484  36  11  62\n",
      " 100 255 368  54 327 380 347 472 452 401 203 190 309 205 162 413 272 258\n",
      " 334 399 343  89 199 318  27 234 302  82 303 163 376 278 364 314 115 120\n",
      " 385 128 114   8  24 424 361 473 466 264 390 304 436 245 316   2 289 323\n",
      " 310 375  44 247 225 428 335 180 154 321 197  32 387 130 241 266 300 232\n",
      " 333 438  94 460 417 293 230 345 215  25 332  99 209 457 355 216  69 383\n",
      " 479  70 398 370  87 474 271 444 301 206 377 471 168 465 118 427 131 468\n",
      " 290 240 342 481 191 183 312  79 366 434 403 143 159 337 430  76  67 181\n",
      " 350 261 187 226 145  55 359 400 194 175  80  78  86  28 231 137 116 176\n",
      "  19  29 429   0 126 461 405  14   6 211 442 440 110 330 391 102 192 406\n",
      " 277 295 402 346 455 236 227 358 201  66 252 432 106   3 155 331  47 419\n",
      " 208  20 296 477 265 167 431 274 354 450 244 262  16 103 263 386 127 193\n",
      " 160  30 210 269 315 373 382 172 467 142 171 329 185 412  92 147 177 198\n",
      " 246  18 148  64 353 328 228 248  22 164 422 456]\n",
      "TRAINING PERFORMANCE METRIC 1.0\n",
      "TEST PERFORMANCE METRIC: 0.5837944364435685\n",
      "TRAIN: [335 245   7 166 282   8 142 209 314  18 454 304 344 121 450 140   4 138\n",
      " 227  33 182 196 414 336 446 385 173 389 313 324 442  93 373 241  47 222\n",
      " 220  49 416 280  54 455 254 481 148  84 413 177 153 342  77  62 388 368\n",
      " 120 488 239  70 306 458 232 436 244 433 249  58 401 398 263 204 308 351\n",
      " 315 185 103  31 139  42 191 403 214  71 441 197 325 466 137  99  66 176\n",
      "  94 346 483 179 186 396 321 201  23 223 320  24   1 478   3 203 422 332\n",
      " 226 349 348  83  53 485 256 202 418  45 340 361 295 242 337 272 168 246\n",
      "  89  34 469 131 134 467 116  52 155 199 362 269 174 439  20 278 125 339\n",
      " 425 381 150 275 395  75  55 143 132 112 463 236 290 238 411 477  85 479\n",
      " 105 288 428 305 111 322 405 200 333  48  87   5 136 301 444 480  41 438\n",
      " 386 384 234 400 145 486 192  17 210  26 113 189 104  27 402 184  64 293\n",
      " 471 279 360  16 190 303 251 474  80 311 377 211 318 420 172 347 380 357\n",
      " 356 283 459 237 152 258 482 129 432  98 159 452 472 161 193   6 456 300\n",
      " 108 298 217 122 127 175 343 215 233 273 274] TEST: [370 451  86 484 440 101 310 390 277 253 490  91 102 157  12  13 118 231\n",
      " 468 371 165 206 443   0 270  40  28 476 213 198 376 123 262 208  76 135\n",
      " 160 464 307  15  30 465  63 240 141  78 312 291 415 268 447 115 393 257\n",
      "  22 219 408 261 353 229 128 475 417 284 287  65 151  59 426 167 286 364\n",
      " 124   2 250 271 289 375  25 334  37  73 328  88 180  95  61 255 296 114\n",
      " 460 359 429 372  72  69 147 341 299 181 473  50 363 156  68  38 407 387\n",
      " 130 264 434 110 169 319  14 194 309  90 266  44 144 107 355 367 230  36\n",
      " 281  67 188 183 409  81  97 421 365  39 374 470  29 366 216 316 489 445\n",
      " 119 326 352 276 358 158 117  74 378 146 235 399 462  82 100 369 207 224\n",
      " 178 109 430  79 267 382  51 292  96  56  46 449 424 248 164 302 435 350\n",
      " 487 294 437 354 391 461 331 453 404 423 394 406 154 221 419  57 252 195\n",
      " 265 163 285 212  21 431 259 106 171 228 345  35 397  10 162 329  60 133\n",
      " 379 383  11 218 170 205 330 338 448 323 260 317 149 247 243  43 126  92\n",
      " 187   9 457 412 410 225 392 327  19 427 297  32]\n",
      "TRAINING PERFORMANCE METRIC 1.0\n",
      "TEST PERFORMANCE METRIC: 0.6360569999242023\n",
      "TRAIN: [352 109 400  52 383   0 379 355 128  95 170 451 384 105 465 390 318 217\n",
      " 129 487   6  76  14 201 167 372 283 312 305 143 130  46 231 291 290 398\n",
      "  74 449 456  48 454 127   4  64 476 387 253 433 144 397 365  69 280 205\n",
      " 278  45 119 452 467 457 388 274  50 460 282  15 363 334 430 445 316 247\n",
      " 115 155 450 375 351 267 220 104 446 368  24 377 171 416 409 309 121 364\n",
      " 277 122 189 186 407 136 219 405 326 380  86 213 152 399 139 182 153 428\n",
      " 490 179  20 295 382 142  83 192 184 161 113  13 224  32 249 137 488 302\n",
      " 237  44 188  22 328  62 168  65 338 354 134  75  57 185  47 234 116  85\n",
      "  35 329 148 190 124 440 335 191 444 214  11 402 138 243  99 477  16 286\n",
      " 401 194 424 263 229 395 436 180 455 325 276  63 459 244  67 195 287 107\n",
      " 414 296 330 120  82 176 317 484 235  59 406 254 356 208 199 413 386 102\n",
      "  40  79  94  80 308 374 298 426 256 464 108 222 315 158 481  54 212  92\n",
      " 366  70 297 336 486 197 147 394 140 218 198 403  19 203 178 438  21 441\n",
      " 260  34 419  42 333 202 126 458 262 241 232] TEST: [110  31  27 439  55 173 273 471 435 145 425 183 216 311 420 225 154  68\n",
      " 151 255 269 103 230   2 268 106 294 360 396 245 157  61 149  91   9 466\n",
      " 344 270  36 337 207 172 423 206 443  56 462 391 215 159   8  84 141 472\n",
      " 369 359 299 319 461 193 434  87 411 483 381  25 257 175 415 323 442 353\n",
      " 228 266 165  93 164 342 361  96 261 307 474 156  33  58 480 393 239 223\n",
      " 272 404 236 422 227 478 303 304  71  43  66 163 373 279 238 358 271 389\n",
      " 300 349 250 447 376  51 429  26 417 385  30 348 392 421 370  17 101 301\n",
      " 100  90 331 133 470 240 174 310 350  78  97 362   7 293  49 432 132 473\n",
      "  29 322 437 246 233 135 117 252 482 112  41 332 200  38 314 448 275 111\n",
      " 204 289 242 125  89 118 463  73 343 431  53 313 131  23 320 357  39 339\n",
      "  72  18 371   5 251 162 475   1  81 469 259  12  37 166 209 210 150 292\n",
      " 453 169 321 346  28  10 264 378 412 345 479 226  60 265 196  88 324 181\n",
      " 114 306 468 288 485 284  77 327 187 221 248 418 285 146 489 211 367 258\n",
      " 410  98 347 408 281 340 341 123 177 427   3 160]\n",
      "TRAINING PERFORMANCE METRIC 1.0\n",
      "TEST PERFORMANCE METRIC: 0.6177518380959599\n",
      "TRAIN: [220 464 390  40 134 354 419  75 412 208 326 233 463  92 234 450 196 423\n",
      " 435   5  21 256  50 353 239 292 223 136 480 446 152 430  26  84 297 128\n",
      " 368 194  80 285 331 465 355 337 409 371 442 168 425 413 448  67 145 432\n",
      " 317 175 174 106 328 284 147 393 206 343   2 422  61 105 151 437 335 179\n",
      "  28 185 173  18 125 101 377 470 333 338 261 286  16   6 291 143 322  85\n",
      " 351  33 250 258  98 190 483 482  58  53 138 429 436 374 244 312 224 382\n",
      " 443 214 158 439 118 453 375 221 341 169 117  95 130 228 154 210  81 296\n",
      " 452 180 176 213 186 356 104 212  37 398 243  51 115 162  45 475  25 230\n",
      " 254 197 370 181 141  91 157 198 489  56 339 268 303  71 403  32 201 406\n",
      " 202 434 289 188 301 342 431 211 187 306  68  99  41  77 226  47 140 438\n",
      " 209 421 189 129 415  66 366 159  36 222  22 401 444 350 440 447 400 148\n",
      " 441 247 142 487 299 486 426  39 121  19 167 372 149 165   7 137  89 270\n",
      "  55 242 304 124 334  15 265 217  27 273  78 445 485 380 277 237  17 428\n",
      " 235 469  63 249 126 314 218 360 133  76 323] TEST: [139 405 156 113 123 192  64 279 325 283  82 455 399  73 386 302 300 112\n",
      " 108 191 345 170 459  38 255 454 269 462   1  49 461 216 252 215 310 397\n",
      " 225 253  62 298 309 391 103  29 241 263 282 132 481 479  11  79 347   9\n",
      " 163 416 315 318 178 348  14 203 473 476 160 119 384 276 329 111 365 246\n",
      " 293 287  70 414 274 164  57 357 418 116  94 472 407 396 264 172 155 327\n",
      " 161  65 336 245 195 204 248 207 278 324 467 232 153 471 320 346 294 308\n",
      "  59  52 183 146  72 219 364 352 227 361  74 319 474 100 150  34 231 358\n",
      " 177 229 290 392 340  97 171 305 262 460 451 378 200  93 363 311 109 379\n",
      " 122 376 199 387  60  43 275  12  83   8 410  24 193 394 131  88 251 184\n",
      " 344 373 466  30 267 271 120 488 484 166 144  48 369 107  87 280 359 257\n",
      "   4  10  96 313 332 383 182 457 135 381 110 260  20 395  86  31 362  42\n",
      " 456 427  54 321 385 349  13   3 288 205  44 272 240 102 408 411  69 490\n",
      " 266 389 402  35 420 114 238 433 127 417  46 468 449 307 330 477 259 478\n",
      "  90 281 295 236 367 458   0 424 316  23 404 388]\n",
      "TRAINING PERFORMANCE METRIC 1.0\n",
      "TEST PERFORMANCE METRIC: 0.6583794436443569\n",
      "*** AVERAGE TRAINING BALANCED_ACCURACY_SCORE +- STD: 1.00 +- 0.00 ***\n",
      "*** AVERAGE TEST BALANCED_ACCURACY_SCORE +- STD: 0.64 +- 0.03 ***\n",
      "(1.0, 0.0, 0.6422041991965435, 0.03001175793679763)\n"
     ]
    },
    {
     "name": "stdout",
     "output_type": "stream",
     "text": [
      "AVERAGE TRAINING BALANCED_ACCURACY_SCORE +- STD: 0.64 +- 0.03\n",
      "AVERAGE TEST BALANCED_ACCURACY_SCORE +- STD: 1.00 +- 0.00\n"
     ]
    }
   ],
   "source": [
    "print(df_cross_validate(df, sklearn_model, sklearn_metric,verbose = True))\n",
    "\n",
    "\n",
    "p_te, s_te, p_tr, s_tr  = df_cross_validate(df, sklearn_model, sklearn_metric)\n",
    "\n",
    "metric_name = sklearn_metric.__name__.upper()\n",
    "print(\"AVERAGE TRAINING {0:s} +- STD: {1:.2f} +- {2:.2f}\".format(metric_name, p_tr, s_tr))\n",
    "print(\"AVERAGE TEST {0:s} +- STD: {1:.2f} +- {2:.2f}\".format(metric_name, p_te, s_te))"
   ]
  },
  {
   "cell_type": "code",
   "execution_count": 17,
   "metadata": {},
   "outputs": [
    {
     "name": "stdout",
     "output_type": "stream",
     "text": [
      "NO SCALING\n",
      "KNEIGHBORSCLASSIFIER\n"
     ]
    },
    {
     "data": {
      "text/html": [
       "<style  type=\"text/css\" >\n",
       "    #T_b6d5b0c6_4408_11ea_a36b_d89ef318e25erow0_col0 {\n",
       "            background-color:  #f7fbff;\n",
       "            color:  #000000;\n",
       "        }    #T_b6d5b0c6_4408_11ea_a36b_d89ef318e25erow0_col1 {\n",
       "            background-color:  #f7fbff;\n",
       "            color:  #000000;\n",
       "        }    #T_b6d5b0c6_4408_11ea_a36b_d89ef318e25erow0_col2 {\n",
       "            background-color:  #08306b;\n",
       "            color:  #f1f1f1;\n",
       "        }    #T_b6d5b0c6_4408_11ea_a36b_d89ef318e25erow0_col3 {\n",
       "            background-color:  #08306b;\n",
       "            color:  #f1f1f1;\n",
       "        }    #T_b6d5b0c6_4408_11ea_a36b_d89ef318e25erow1_col0 {\n",
       "            background-color:  #f7fbff;\n",
       "            color:  #000000;\n",
       "        }    #T_b6d5b0c6_4408_11ea_a36b_d89ef318e25erow1_col1 {\n",
       "            background-color:  #f7fbff;\n",
       "            color:  #000000;\n",
       "        }    #T_b6d5b0c6_4408_11ea_a36b_d89ef318e25erow1_col2 {\n",
       "            background-color:  #f7fbff;\n",
       "            color:  #000000;\n",
       "        }    #T_b6d5b0c6_4408_11ea_a36b_d89ef318e25erow1_col3 {\n",
       "            background-color:  #f7fbff;\n",
       "            color:  #000000;\n",
       "        }    #T_b6d5b0c6_4408_11ea_a36b_d89ef318e25erow2_col0 {\n",
       "            background-color:  #f7fbff;\n",
       "            color:  #000000;\n",
       "        }    #T_b6d5b0c6_4408_11ea_a36b_d89ef318e25erow2_col1 {\n",
       "            background-color:  #f7fbff;\n",
       "            color:  #000000;\n",
       "        }    #T_b6d5b0c6_4408_11ea_a36b_d89ef318e25erow2_col2 {\n",
       "            background-color:  #deebf7;\n",
       "            color:  #000000;\n",
       "        }    #T_b6d5b0c6_4408_11ea_a36b_d89ef318e25erow2_col3 {\n",
       "            background-color:  #85bcdc;\n",
       "            color:  #000000;\n",
       "        }    #T_b6d5b0c6_4408_11ea_a36b_d89ef318e25erow3_col0 {\n",
       "            background-color:  #f7fbff;\n",
       "            color:  #000000;\n",
       "        }    #T_b6d5b0c6_4408_11ea_a36b_d89ef318e25erow3_col1 {\n",
       "            background-color:  #f7fbff;\n",
       "            color:  #000000;\n",
       "        }    #T_b6d5b0c6_4408_11ea_a36b_d89ef318e25erow3_col2 {\n",
       "            background-color:  #75b4d8;\n",
       "            color:  #000000;\n",
       "        }    #T_b6d5b0c6_4408_11ea_a36b_d89ef318e25erow3_col3 {\n",
       "            background-color:  #4191c6;\n",
       "            color:  #000000;\n",
       "        }</style><table id=\"T_b6d5b0c6_4408_11ea_a36b_d89ef318e25e\" ><thead>    <tr>        <th class=\"blank level0\" ></th>        <th class=\"col_heading level0 col0\" >perf_tr</th>        <th class=\"col_heading level0 col1\" >std_tr</th>        <th class=\"col_heading level0 col2\" >perf_te</th>        <th class=\"col_heading level0 col3\" >std_te</th>    </tr></thead><tbody>\n",
       "                <tr>\n",
       "                        <th id=\"T_b6d5b0c6_4408_11ea_a36b_d89ef318e25elevel0_row0\" class=\"row_heading level0 row0\" >CROP</th>\n",
       "                        <td id=\"T_b6d5b0c6_4408_11ea_a36b_d89ef318e25erow0_col0\" class=\"data row0 col0\" >1</td>\n",
       "                        <td id=\"T_b6d5b0c6_4408_11ea_a36b_d89ef318e25erow0_col1\" class=\"data row0 col1\" >0</td>\n",
       "                        <td id=\"T_b6d5b0c6_4408_11ea_a36b_d89ef318e25erow0_col2\" class=\"data row0 col2\" >0.747946</td>\n",
       "                        <td id=\"T_b6d5b0c6_4408_11ea_a36b_d89ef318e25erow0_col3\" class=\"data row0 col3\" >0.0334551</td>\n",
       "            </tr>\n",
       "            <tr>\n",
       "                        <th id=\"T_b6d5b0c6_4408_11ea_a36b_d89ef318e25elevel0_row1\" class=\"row_heading level0 row1\" >CS</th>\n",
       "                        <td id=\"T_b6d5b0c6_4408_11ea_a36b_d89ef318e25erow1_col0\" class=\"data row1 col0\" >1</td>\n",
       "                        <td id=\"T_b6d5b0c6_4408_11ea_a36b_d89ef318e25erow1_col1\" class=\"data row1 col1\" >0</td>\n",
       "                        <td id=\"T_b6d5b0c6_4408_11ea_a36b_d89ef318e25erow1_col2\" class=\"data row1 col2\" >0.546047</td>\n",
       "                        <td id=\"T_b6d5b0c6_4408_11ea_a36b_d89ef318e25erow1_col3\" class=\"data row1 col3\" >0.0241897</td>\n",
       "            </tr>\n",
       "            <tr>\n",
       "                        <th id=\"T_b6d5b0c6_4408_11ea_a36b_d89ef318e25elevel0_row2\" class=\"row_heading level0 row2\" >RAW</th>\n",
       "                        <td id=\"T_b6d5b0c6_4408_11ea_a36b_d89ef318e25erow2_col0\" class=\"data row2 col0\" >1</td>\n",
       "                        <td id=\"T_b6d5b0c6_4408_11ea_a36b_d89ef318e25erow2_col1\" class=\"data row2 col1\" >0</td>\n",
       "                        <td id=\"T_b6d5b0c6_4408_11ea_a36b_d89ef318e25erow2_col2\" class=\"data row2 col2\" >0.571887</td>\n",
       "                        <td id=\"T_b6d5b0c6_4408_11ea_a36b_d89ef318e25erow2_col3\" class=\"data row2 col3\" >0.0282349</td>\n",
       "            </tr>\n",
       "            <tr>\n",
       "                        <th id=\"T_b6d5b0c6_4408_11ea_a36b_d89ef318e25elevel0_row3\" class=\"row_heading level0 row3\" >RE</th>\n",
       "                        <td id=\"T_b6d5b0c6_4408_11ea_a36b_d89ef318e25erow3_col0\" class=\"data row3 col0\" >1</td>\n",
       "                        <td id=\"T_b6d5b0c6_4408_11ea_a36b_d89ef318e25erow3_col1\" class=\"data row3 col1\" >0</td>\n",
       "                        <td id=\"T_b6d5b0c6_4408_11ea_a36b_d89ef318e25erow3_col2\" class=\"data row3 col2\" >0.642204</td>\n",
       "                        <td id=\"T_b6d5b0c6_4408_11ea_a36b_d89ef318e25erow3_col3\" class=\"data row3 col3\" >0.0300118</td>\n",
       "            </tr>\n",
       "    </tbody></table>"
      ],
      "text/plain": [
       "<pandas.io.formats.style.Styler at 0x7f6a9d979668>"
      ]
     },
     "execution_count": 17,
     "metadata": {},
     "output_type": "execute_result"
    }
   ],
   "source": [
    "# We give you this code, read it and try to understand it\n",
    "data_name = [os.path.basename(file)[:-9] for file in data_list]\n",
    "all_data_df = [pd.read_csv(file) for file in data_list]\n",
    "print('NO SCALING')\n",
    "result_noscaling = systematic_data_experiment(data_name, all_data_df, sklearn_model, sklearn_metric)\n",
    "result_noscaling.style.background_gradient(cmap='Blues')"
   ]
  },
  {
   "cell_type": "markdown",
   "metadata": {},
   "source": [
    "What do you observe by comparing the accuracy on training data and on test data?"
   ]
  },
  {
   "cell_type": "markdown",
   "metadata": {},
   "source": [
    "<div style=\"background:#FFFFAA\">\n",
    "    Here you need to do something!\n",
    "</div>\n",
    "<b>Compute all_scaled_data_df in a one-line formula. Imitate the code in the previous cell.</b> "
   ]
  },
  {
   "cell_type": "code",
   "execution_count": 21,
   "metadata": {},
   "outputs": [
    {
     "ename": "NameError",
     "evalue": "name 'all_scaled_data_df' is not defined",
     "output_type": "error",
     "traceback": [
      "\u001b[0;31m---------------------------------------------------------------------------\u001b[0m",
      "\u001b[0;31mNameError\u001b[0m                                 Traceback (most recent call last)",
      "\u001b[0;32m<ipython-input-21-9c14816da937>\u001b[0m in \u001b[0;36m<module>\u001b[0;34m\u001b[0m\n\u001b[0;32m----> 1\u001b[0;31m \u001b[0mlen\u001b[0m\u001b[0;34m(\u001b[0m\u001b[0mall_scaled_data_df\u001b[0m\u001b[0;34m)\u001b[0m\u001b[0;34m\u001b[0m\u001b[0;34m\u001b[0m\u001b[0m\n\u001b[0m",
      "\u001b[0;31mNameError\u001b[0m: name 'all_scaled_data_df' is not defined"
     ]
    }
   ],
   "source": [
    "len(all_scaled_data_df)"
   ]
  },
  {
   "cell_type": "code",
   "execution_count": 22,
   "metadata": {},
   "outputs": [],
   "source": [
    "#all_scaled_data_df[0]"
   ]
  },
  {
   "cell_type": "code",
   "execution_count": 23,
   "metadata": {},
   "outputs": [
    {
     "name": "stdout",
     "output_type": "stream",
     "text": [
      "WITH SCALING\n",
      "KNEIGHBORSCLASSIFIER\n"
     ]
    },
    {
     "data": {
      "text/html": [
       "<style  type=\"text/css\" >\n",
       "    #T_ec0f6566_4408_11ea_a36b_d89ef318e25erow0_col0 {\n",
       "            background-color:  #f7fbff;\n",
       "            color:  #000000;\n",
       "        }    #T_ec0f6566_4408_11ea_a36b_d89ef318e25erow0_col1 {\n",
       "            background-color:  #f7fbff;\n",
       "            color:  #000000;\n",
       "        }    #T_ec0f6566_4408_11ea_a36b_d89ef318e25erow0_col2 {\n",
       "            background-color:  #3888c1;\n",
       "            color:  #000000;\n",
       "        }    #T_ec0f6566_4408_11ea_a36b_d89ef318e25erow0_col3 {\n",
       "            background-color:  #c9ddf0;\n",
       "            color:  #000000;\n",
       "        }    #T_ec0f6566_4408_11ea_a36b_d89ef318e25erow1_col0 {\n",
       "            background-color:  #f7fbff;\n",
       "            color:  #000000;\n",
       "        }    #T_ec0f6566_4408_11ea_a36b_d89ef318e25erow1_col1 {\n",
       "            background-color:  #f7fbff;\n",
       "            color:  #000000;\n",
       "        }    #T_ec0f6566_4408_11ea_a36b_d89ef318e25erow1_col2 {\n",
       "            background-color:  #08306b;\n",
       "            color:  #f1f1f1;\n",
       "        }    #T_ec0f6566_4408_11ea_a36b_d89ef318e25erow1_col3 {\n",
       "            background-color:  #e3eef8;\n",
       "            color:  #000000;\n",
       "        }    #T_ec0f6566_4408_11ea_a36b_d89ef318e25erow2_col0 {\n",
       "            background-color:  #f7fbff;\n",
       "            color:  #000000;\n",
       "        }    #T_ec0f6566_4408_11ea_a36b_d89ef318e25erow2_col1 {\n",
       "            background-color:  #f7fbff;\n",
       "            color:  #000000;\n",
       "        }    #T_ec0f6566_4408_11ea_a36b_d89ef318e25erow2_col2 {\n",
       "            background-color:  #f7fbff;\n",
       "            color:  #000000;\n",
       "        }    #T_ec0f6566_4408_11ea_a36b_d89ef318e25erow2_col3 {\n",
       "            background-color:  #08306b;\n",
       "            color:  #f1f1f1;\n",
       "        }    #T_ec0f6566_4408_11ea_a36b_d89ef318e25erow3_col0 {\n",
       "            background-color:  #f7fbff;\n",
       "            color:  #000000;\n",
       "        }    #T_ec0f6566_4408_11ea_a36b_d89ef318e25erow3_col1 {\n",
       "            background-color:  #f7fbff;\n",
       "            color:  #000000;\n",
       "        }    #T_ec0f6566_4408_11ea_a36b_d89ef318e25erow3_col2 {\n",
       "            background-color:  #c4daee;\n",
       "            color:  #000000;\n",
       "        }    #T_ec0f6566_4408_11ea_a36b_d89ef318e25erow3_col3 {\n",
       "            background-color:  #f7fbff;\n",
       "            color:  #000000;\n",
       "        }</style><table id=\"T_ec0f6566_4408_11ea_a36b_d89ef318e25e\" ><thead>    <tr>        <th class=\"blank level0\" ></th>        <th class=\"col_heading level0 col0\" >perf_tr</th>        <th class=\"col_heading level0 col1\" >std_tr</th>        <th class=\"col_heading level0 col2\" >perf_te</th>        <th class=\"col_heading level0 col3\" >std_te</th>    </tr></thead><tbody>\n",
       "                <tr>\n",
       "                        <th id=\"T_ec0f6566_4408_11ea_a36b_d89ef318e25elevel0_row0\" class=\"row_heading level0 row0\" >CROP</th>\n",
       "                        <td id=\"T_ec0f6566_4408_11ea_a36b_d89ef318e25erow0_col0\" class=\"data row0 col0\" >1</td>\n",
       "                        <td id=\"T_ec0f6566_4408_11ea_a36b_d89ef318e25erow0_col1\" class=\"data row0 col1\" >0</td>\n",
       "                        <td id=\"T_ec0f6566_4408_11ea_a36b_d89ef318e25erow0_col2\" class=\"data row0 col2\" >0.71234</td>\n",
       "                        <td id=\"T_ec0f6566_4408_11ea_a36b_d89ef318e25erow0_col3\" class=\"data row0 col3\" >0.0244602</td>\n",
       "            </tr>\n",
       "            <tr>\n",
       "                        <th id=\"T_ec0f6566_4408_11ea_a36b_d89ef318e25elevel0_row1\" class=\"row_heading level0 row1\" >CS</th>\n",
       "                        <td id=\"T_ec0f6566_4408_11ea_a36b_d89ef318e25erow1_col0\" class=\"data row1 col0\" >1</td>\n",
       "                        <td id=\"T_ec0f6566_4408_11ea_a36b_d89ef318e25erow1_col1\" class=\"data row1 col1\" >0</td>\n",
       "                        <td id=\"T_ec0f6566_4408_11ea_a36b_d89ef318e25erow1_col2\" class=\"data row1 col2\" >0.792288</td>\n",
       "                        <td id=\"T_ec0f6566_4408_11ea_a36b_d89ef318e25erow1_col3\" class=\"data row1 col3\" >0.0221641</td>\n",
       "            </tr>\n",
       "            <tr>\n",
       "                        <th id=\"T_ec0f6566_4408_11ea_a36b_d89ef318e25elevel0_row2\" class=\"row_heading level0 row2\" >RAW</th>\n",
       "                        <td id=\"T_ec0f6566_4408_11ea_a36b_d89ef318e25erow2_col0\" class=\"data row2 col0\" >1</td>\n",
       "                        <td id=\"T_ec0f6566_4408_11ea_a36b_d89ef318e25erow2_col1\" class=\"data row2 col1\" >0</td>\n",
       "                        <td id=\"T_ec0f6566_4408_11ea_a36b_d89ef318e25erow2_col2\" class=\"data row2 col2\" >0.554434</td>\n",
       "                        <td id=\"T_ec0f6566_4408_11ea_a36b_d89ef318e25erow2_col3\" class=\"data row2 col3\" >0.0375432</td>\n",
       "            </tr>\n",
       "            <tr>\n",
       "                        <th id=\"T_ec0f6566_4408_11ea_a36b_d89ef318e25elevel0_row3\" class=\"row_heading level0 row3\" >RE</th>\n",
       "                        <td id=\"T_ec0f6566_4408_11ea_a36b_d89ef318e25erow3_col0\" class=\"data row3 col0\" >1</td>\n",
       "                        <td id=\"T_ec0f6566_4408_11ea_a36b_d89ef318e25erow3_col1\" class=\"data row3 col1\" >0</td>\n",
       "                        <td id=\"T_ec0f6566_4408_11ea_a36b_d89ef318e25erow3_col2\" class=\"data row3 col2\" >0.61544</td>\n",
       "                        <td id=\"T_ec0f6566_4408_11ea_a36b_d89ef318e25erow3_col3\" class=\"data row3 col3\" >0.0204092</td>\n",
       "            </tr>\n",
       "    </tbody></table>"
      ],
      "text/plain": [
       "<pandas.io.formats.style.Styler at 0x7f6a97edcf60>"
      ]
     },
     "execution_count": 23,
     "metadata": {},
     "output_type": "execute_result"
    }
   ],
   "source": [
    "all_scaled_data_df = [standardize_df(i) for i in all_data_df] \n",
    "\n",
    "print('WITH SCALING')\n",
    "result_scaling = systematic_data_experiment(data_name, all_scaled_data_df, sklearn_model, sklearn_metric)\n",
    "result_scaling.style.background_gradient(cmap='Blues')"
   ]
  },
  {
   "cell_type": "code",
   "execution_count": 24,
   "metadata": {},
   "outputs": [
    {
     "data": {
      "text/html": [
       "<div>\n",
       "<style scoped>\n",
       "    .dataframe tbody tr th:only-of-type {\n",
       "        vertical-align: middle;\n",
       "    }\n",
       "\n",
       "    .dataframe tbody tr th {\n",
       "        vertical-align: top;\n",
       "    }\n",
       "\n",
       "    .dataframe thead th {\n",
       "        text-align: right;\n",
       "    }\n",
       "</style>\n",
       "<table border=\"1\" class=\"dataframe\">\n",
       "  <thead>\n",
       "    <tr style=\"text-align: right;\">\n",
       "      <th></th>\n",
       "      <th>SCALED</th>\n",
       "      <th>NOT SCALED</th>\n",
       "    </tr>\n",
       "  </thead>\n",
       "  <tbody>\n",
       "    <tr>\n",
       "      <th>CROP</th>\n",
       "      <td>0.712340</td>\n",
       "      <td>0.747946</td>\n",
       "    </tr>\n",
       "    <tr>\n",
       "      <th>CS</th>\n",
       "      <td>0.792288</td>\n",
       "      <td>0.546047</td>\n",
       "    </tr>\n",
       "    <tr>\n",
       "      <th>RAW</th>\n",
       "      <td>0.554434</td>\n",
       "      <td>0.571887</td>\n",
       "    </tr>\n",
       "    <tr>\n",
       "      <th>RE</th>\n",
       "      <td>0.615440</td>\n",
       "      <td>0.642204</td>\n",
       "    </tr>\n",
       "  </tbody>\n",
       "</table>\n",
       "</div>"
      ],
      "text/plain": [
       "        SCALED  NOT SCALED\n",
       "CROP  0.712340    0.747946\n",
       "CS    0.792288    0.546047\n",
       "RAW   0.554434    0.571887\n",
       "RE    0.615440    0.642204"
      ]
     },
     "execution_count": 24,
     "metadata": {},
     "output_type": "execute_result"
    }
   ],
   "source": [
    "# This is how to collect the test results in a single dataframe\n",
    "joint_results = pd.DataFrame()\n",
    "joint_results['SCALED'] = result_scaling.perf_te\n",
    "joint_results['NOT SCALED'] = result_noscaling.perf_te\n",
    "joint_results"
   ]
  },
  {
   "cell_type": "markdown",
   "metadata": {},
   "source": [
    "<div style=\"background:#FFFFAA\">\n",
    "    Here you need to do something!\n",
    "</div>\n",
    "<b>Put here the code to plot \"joint_results\" as a bar graph. Check the <a href=\"Check https://pandas.pydata.org/pandas-docs/stable/reference/api/pandas.DataFrame.plot.bar.html\"> documentation</a></b>."
   ]
  },
  {
   "cell_type": "code",
   "execution_count": 25,
   "metadata": {},
   "outputs": [
    {
     "data": {
      "text/plain": [
       "Text(0, 0.5, 'balanced_accuracy_score')"
      ]
     },
     "execution_count": 25,
     "metadata": {},
     "output_type": "execute_result"
    },
    {
     "data": {
      "image/png": "[encoded data removed]",
      "text/plain": [
       "<Figure size 432x288 with 1 Axes>"
      ]
     },
     "metadata": {
      "needs_background": "light"
     },
     "output_type": "display_data"
    }
   ],
   "source": [
    "joint_results.plot.bar() \n",
    "plt.ylabel(sklearn_metric.__name__)"
   ]
  },
  {
   "cell_type": "markdown",
   "metadata": {},
   "source": [
    "<div style=\"background:#FFFFAA\">\n",
    "    Here you need to do something!\n",
    "</div>\n",
    "<b>Your final answers to question 3:</a></b> Does rescaling always help? In which case does it help most?"
   ]
  },
  {
   "cell_type": "code",
   "execution_count": 27,
   "metadata": {},
   "outputs": [
    {
     "name": "stdout",
     "output_type": "stream",
     "text": [
      "-1.3145198580879243\n",
      "-1.3145198580879243\n"
     ]
    },
    {
     "data": {
      "text/html": [
       "<div style=\"background:#00FF00\">CORRECT<br>:-)</div>"
      ],
      "text/plain": [
       "<IPython.core.display.HTML object>"
      ]
     },
     "metadata": {},
     "output_type": "display_data"
    }
   ],
   "source": [
    "# Put your answer to question 3 here\n",
    "rescaling_always_help = 0 # 0 for false, 1 for true\n",
    "varnum_rescaling_helps_most = -1 # num of var (0-based) for which perf. improve most after rescaling\n",
    "case_num_rescaling_helps_most = 2 # num of case (0-based) for which perf. improve most after rescaling\n",
    "\n",
    "# This is the checker code, keep it\n",
    "question = 3\n",
    "answer = (p_tr+s_tr+p_te+s_te)/10\n",
    "answer += joint_results.sum().sum()/10-rescaling_always_help-case_num_rescaling_helps_most\n",
    "score += check(answer, question)"
   ]
  },
  {
   "cell_type": "markdown",
   "metadata": {},
   "source": [
    "## Step 2: Identify the best model\n",
    "We are now ready to perform systematic experiments on various models. We will use the methods proposed in the variable `classifiers` of <a href=\"https://scikit-learn.org/stable/auto_examples/classification/plot_classifier_comparison.html\">these scikit-learn examples</a>, compare classifier performances on the dataset `CS_SCALED`:\n",
    "\n",
    "### Question 4: Overfitting and underfitting\n",
    "\n",
    "</b> There may be two reasons why a model performs poorly. It could either be <b>overfitting</b> or <b>underfitting</b> data. \n",
    "\n",
    "First you will perform these steps (with some help):\n",
    "\n",
    "* Create a variable `data_df` and assign to it the data frame of the scaled version of the CS dataset.\n",
    "* Create a variable `model_name` and a variable `model_list` containing the list of model names and the list of models (classifiers) from the <a href=\"https://scikit-learn.org/stable/auto_examples/classification/plot_classifier_comparison.html\">the scikit-learn examples</a> we pointed you to.\n",
    "* Call `systematic_model_experiment(data_df, model_name, model_list, sklearn_metric)` and display the results. \n",
    "* Find which method performs best. <b>Tip:</b> Use <a href=\"https://pandas.pydata.org/pandas-docs/stable/reference/api/pandas.Series.idxmax.html#pandas.Series.idxmax\">idxmax</a>.\n",
    "* Find which models have TEST performance UNDER THE MEDIAN test performance. The single out models with TRAINING performance UNDER THE MEDIAN and those with TRAINING performance OVER THE MEDIAN.\n",
    "\n",
    "Then answer those questions:\n",
    "* If the test performance is bad but the training performance is good, is the model under-fitting or over-fitting? \n",
    "* If both are bad, is the model is under-fitting or over-fitting? \n",
    "* Which models are over-fitted and which ones are under-fitted?"
   ]
  },
  {
   "cell_type": "markdown",
   "metadata": {},
   "source": [
    "<div style=\"background:#FFFFAA\">\n",
    "    Here you need to do something!\n",
    "</div>\n",
    "<b>Choose the correct dataset: CS representation, scaled data.</b>"
   ]
  },
  {
   "cell_type": "code",
   "execution_count": 24,
   "metadata": {},
   "outputs": [
    {
     "name": "stdout",
     "output_type": "stream",
     "text": [
      "(491, 14581)\n"
     ]
    }
   ],
   "source": [
    "dataset_choice = 2 # Change that\n",
    "data_df = all_scaled_data_df[dataset_choice] # Change that\n",
    "\n",
    "print(data_df.shape)"
   ]
  },
  {
   "cell_type": "markdown",
   "metadata": {},
   "source": [
    "#### Classifier comparison\n",
    "We import a bunch of classifiers, inspired \n",
    "by <a href=\"https://scikit-learn.org/stable/auto_examples/classification/plot_classifier_comparison.html\">that list</a>."
   ]
  },
  {
   "cell_type": "code",
   "execution_count": 25,
   "metadata": {},
   "outputs": [],
   "source": [
    "from sklearn.neural_network import MLPClassifier\n",
    "from sklearn.neighbors import KNeighborsClassifier\n",
    "from sklearn.svm import SVC\n",
    "from sklearn.gaussian_process import GaussianProcessClassifier\n",
    "from sklearn.gaussian_process.kernels import RBF\n",
    "from sklearn.tree import DecisionTreeClassifier\n",
    "from sklearn.ensemble import RandomForestClassifier, AdaBoostClassifier\n",
    "from sklearn.naive_bayes import GaussianNB\n",
    "from sklearn.discriminant_analysis import QuadraticDiscriminantAnalysis\n",
    "\n",
    "model_name = [\"Nearest Neighbors\", \"Linear SVM\", \"RBF SVM\", \"Gaussian Process\",\n",
    "         \"Decision Tree\", \"Random Forest\", \"Neural Net\", \"AdaBoost\",\n",
    "         \"Naive Bayes\", \"QDA\"]\n",
    "model_list = [\n",
    "    KNeighborsClassifier(3),\n",
    "    SVC(kernel=\"linear\", C=0.025),\n",
    "    SVC(gamma=2, C=1),\n",
    "    GaussianProcessClassifier(1.0 * RBF(1.0)),\n",
    "    DecisionTreeClassifier(max_depth=10),\n",
    "    RandomForestClassifier(max_depth=10, n_estimators=10, max_features=1),\n",
    "    MLPClassifier(alpha=1, max_iter=1000),\n",
    "    AdaBoostClassifier(),\n",
    "    GaussianNB(),\n",
    "    QuadraticDiscriminantAnalysis()]"
   ]
  },
  {
   "cell_type": "markdown",
   "metadata": {},
   "source": [
    "#### Systematic experiments:\n",
    "We give you this code to make systematic experiments (run all models on the chosen representation). You may get a warning. What could explain it?"
   ]
  },
  {
   "cell_type": "code",
   "execution_count": 29,
   "metadata": {},
   "outputs": [
    {
     "name": "stderr",
     "output_type": "stream",
     "text": [
      "/opt/anaconda3/lib/python3.7/site-packages/sklearn/discriminant_analysis.py:692: UserWarning: Variables are collinear\n",
      "  warnings.warn(\"Variables are collinear\")\n",
      "/opt/anaconda3/lib/python3.7/site-packages/sklearn/discriminant_analysis.py:692: UserWarning: Variables are collinear\n",
      "  warnings.warn(\"Variables are collinear\")\n",
      "/opt/anaconda3/lib/python3.7/site-packages/sklearn/discriminant_analysis.py:692: UserWarning: Variables are collinear\n",
      "  warnings.warn(\"Variables are collinear\")\n",
      "/opt/anaconda3/lib/python3.7/site-packages/sklearn/discriminant_analysis.py:692: UserWarning: Variables are collinear\n",
      "  warnings.warn(\"Variables are collinear\")\n",
      "/opt/anaconda3/lib/python3.7/site-packages/sklearn/discriminant_analysis.py:692: UserWarning: Variables are collinear\n",
      "  warnings.warn(\"Variables are collinear\")\n",
      "/opt/anaconda3/lib/python3.7/site-packages/sklearn/discriminant_analysis.py:692: UserWarning: Variables are collinear\n",
      "  warnings.warn(\"Variables are collinear\")\n",
      "/opt/anaconda3/lib/python3.7/site-packages/sklearn/discriminant_analysis.py:692: UserWarning: Variables are collinear\n",
      "  warnings.warn(\"Variables are collinear\")\n",
      "/opt/anaconda3/lib/python3.7/site-packages/sklearn/discriminant_analysis.py:692: UserWarning: Variables are collinear\n",
      "  warnings.warn(\"Variables are collinear\")\n",
      "/opt/anaconda3/lib/python3.7/site-packages/sklearn/discriminant_analysis.py:692: UserWarning: Variables are collinear\n",
      "  warnings.warn(\"Variables are collinear\")\n",
      "/opt/anaconda3/lib/python3.7/site-packages/sklearn/discriminant_analysis.py:692: UserWarning: Variables are collinear\n",
      "  warnings.warn(\"Variables are collinear\")\n",
      "/opt/anaconda3/lib/python3.7/site-packages/sklearn/discriminant_analysis.py:692: UserWarning: Variables are collinear\n",
      "  warnings.warn(\"Variables are collinear\")\n",
      "/opt/anaconda3/lib/python3.7/site-packages/sklearn/discriminant_analysis.py:692: UserWarning: Variables are collinear\n",
      "  warnings.warn(\"Variables are collinear\")\n",
      "/opt/anaconda3/lib/python3.7/site-packages/sklearn/discriminant_analysis.py:692: UserWarning: Variables are collinear\n",
      "  warnings.warn(\"Variables are collinear\")\n",
      "/opt/anaconda3/lib/python3.7/site-packages/sklearn/discriminant_analysis.py:692: UserWarning: Variables are collinear\n",
      "  warnings.warn(\"Variables are collinear\")\n",
      "/opt/anaconda3/lib/python3.7/site-packages/sklearn/discriminant_analysis.py:692: UserWarning: Variables are collinear\n",
      "  warnings.warn(\"Variables are collinear\")\n",
      "/opt/anaconda3/lib/python3.7/site-packages/sklearn/discriminant_analysis.py:692: UserWarning: Variables are collinear\n",
      "  warnings.warn(\"Variables are collinear\")\n",
      "/opt/anaconda3/lib/python3.7/site-packages/sklearn/discriminant_analysis.py:692: UserWarning: Variables are collinear\n",
      "  warnings.warn(\"Variables are collinear\")\n",
      "/opt/anaconda3/lib/python3.7/site-packages/sklearn/discriminant_analysis.py:692: UserWarning: Variables are collinear\n",
      "  warnings.warn(\"Variables are collinear\")\n",
      "/opt/anaconda3/lib/python3.7/site-packages/sklearn/discriminant_analysis.py:692: UserWarning: Variables are collinear\n",
      "  warnings.warn(\"Variables are collinear\")\n",
      "/opt/anaconda3/lib/python3.7/site-packages/sklearn/discriminant_analysis.py:692: UserWarning: Variables are collinear\n",
      "  warnings.warn(\"Variables are collinear\")\n"
     ]
    },
    {
     "data": {
      "text/html": [
       "<style  type=\"text/css\" >\n",
       "    #T_c336ccfc_4407_11ea_b2da_d89ef318e25erow0_col0 {\n",
       "            background-color:  #f7fbff;\n",
       "            color:  #000000;\n",
       "        }    #T_c336ccfc_4407_11ea_b2da_d89ef318e25erow0_col1 {\n",
       "            background-color:  #2070b4;\n",
       "            color:  #f1f1f1;\n",
       "        }    #T_c336ccfc_4407_11ea_b2da_d89ef318e25erow0_col2 {\n",
       "            background-color:  #6aaed6;\n",
       "            color:  #000000;\n",
       "        }    #T_c336ccfc_4407_11ea_b2da_d89ef318e25erow0_col3 {\n",
       "            background-color:  #6aaed6;\n",
       "            color:  #000000;\n",
       "        }    #T_c336ccfc_4407_11ea_b2da_d89ef318e25erow1_col0 {\n",
       "            background-color:  #08306b;\n",
       "            color:  #f1f1f1;\n",
       "        }    #T_c336ccfc_4407_11ea_b2da_d89ef318e25erow1_col1 {\n",
       "            background-color:  #f7fbff;\n",
       "            color:  #000000;\n",
       "        }    #T_c336ccfc_4407_11ea_b2da_d89ef318e25erow1_col2 {\n",
       "            background-color:  #105ba4;\n",
       "            color:  #f1f1f1;\n",
       "        }    #T_c336ccfc_4407_11ea_b2da_d89ef318e25erow1_col3 {\n",
       "            background-color:  #6aaed6;\n",
       "            color:  #000000;\n",
       "        }    #T_c336ccfc_4407_11ea_b2da_d89ef318e25erow2_col0 {\n",
       "            background-color:  #08306b;\n",
       "            color:  #f1f1f1;\n",
       "        }    #T_c336ccfc_4407_11ea_b2da_d89ef318e25erow2_col1 {\n",
       "            background-color:  #f7fbff;\n",
       "            color:  #000000;\n",
       "        }    #T_c336ccfc_4407_11ea_b2da_d89ef318e25erow2_col2 {\n",
       "            background-color:  #f7fbff;\n",
       "            color:  #000000;\n",
       "        }    #T_c336ccfc_4407_11ea_b2da_d89ef318e25erow2_col3 {\n",
       "            background-color:  #f7fbff;\n",
       "            color:  #000000;\n",
       "        }    #T_c336ccfc_4407_11ea_b2da_d89ef318e25erow3_col0 {\n",
       "            background-color:  #08306b;\n",
       "            color:  #f1f1f1;\n",
       "        }    #T_c336ccfc_4407_11ea_b2da_d89ef318e25erow3_col1 {\n",
       "            background-color:  #f7fbff;\n",
       "            color:  #000000;\n",
       "        }    #T_c336ccfc_4407_11ea_b2da_d89ef318e25erow3_col2 {\n",
       "            background-color:  #f7fbff;\n",
       "            color:  #000000;\n",
       "        }    #T_c336ccfc_4407_11ea_b2da_d89ef318e25erow3_col3 {\n",
       "            background-color:  #f7fbff;\n",
       "            color:  #000000;\n",
       "        }    #T_c336ccfc_4407_11ea_b2da_d89ef318e25erow4_col0 {\n",
       "            background-color:  #083877;\n",
       "            color:  #f1f1f1;\n",
       "        }    #T_c336ccfc_4407_11ea_b2da_d89ef318e25erow4_col1 {\n",
       "            background-color:  #6aaed6;\n",
       "            color:  #000000;\n",
       "        }    #T_c336ccfc_4407_11ea_b2da_d89ef318e25erow4_col2 {\n",
       "            background-color:  #08306b;\n",
       "            color:  #f1f1f1;\n",
       "        }    #T_c336ccfc_4407_11ea_b2da_d89ef318e25erow4_col3 {\n",
       "            background-color:  #08306b;\n",
       "            color:  #f1f1f1;\n",
       "        }    #T_c336ccfc_4407_11ea_b2da_d89ef318e25erow5_col0 {\n",
       "            background-color:  #0a539e;\n",
       "            color:  #f1f1f1;\n",
       "        }    #T_c336ccfc_4407_11ea_b2da_d89ef318e25erow5_col1 {\n",
       "            background-color:  #c6dbef;\n",
       "            color:  #000000;\n",
       "        }    #T_c336ccfc_4407_11ea_b2da_d89ef318e25erow5_col2 {\n",
       "            background-color:  #abd0e6;\n",
       "            color:  #000000;\n",
       "        }    #T_c336ccfc_4407_11ea_b2da_d89ef318e25erow5_col3 {\n",
       "            background-color:  #c6dbef;\n",
       "            color:  #000000;\n",
       "        }    #T_c336ccfc_4407_11ea_b2da_d89ef318e25erow6_col0 {\n",
       "            background-color:  #08306b;\n",
       "            color:  #f1f1f1;\n",
       "        }    #T_c336ccfc_4407_11ea_b2da_d89ef318e25erow6_col1 {\n",
       "            background-color:  #f7fbff;\n",
       "            color:  #000000;\n",
       "        }    #T_c336ccfc_4407_11ea_b2da_d89ef318e25erow6_col2 {\n",
       "            background-color:  #08306b;\n",
       "            color:  #f1f1f1;\n",
       "        }    #T_c336ccfc_4407_11ea_b2da_d89ef318e25erow6_col3 {\n",
       "            background-color:  #c6dbef;\n",
       "            color:  #000000;\n",
       "        }    #T_c336ccfc_4407_11ea_b2da_d89ef318e25erow7_col0 {\n",
       "            background-color:  #08306b;\n",
       "            color:  #f1f1f1;\n",
       "        }    #T_c336ccfc_4407_11ea_b2da_d89ef318e25erow7_col1 {\n",
       "            background-color:  #f7fbff;\n",
       "            color:  #000000;\n",
       "        }    #T_c336ccfc_4407_11ea_b2da_d89ef318e25erow7_col2 {\n",
       "            background-color:  #08306b;\n",
       "            color:  #f1f1f1;\n",
       "        }    #T_c336ccfc_4407_11ea_b2da_d89ef318e25erow7_col3 {\n",
       "            background-color:  #6aaed6;\n",
       "            color:  #000000;\n",
       "        }    #T_c336ccfc_4407_11ea_b2da_d89ef318e25erow8_col0 {\n",
       "            background-color:  #c1d9ed;\n",
       "            color:  #000000;\n",
       "        }    #T_c336ccfc_4407_11ea_b2da_d89ef318e25erow8_col1 {\n",
       "            background-color:  #08306b;\n",
       "            color:  #f1f1f1;\n",
       "        }    #T_c336ccfc_4407_11ea_b2da_d89ef318e25erow8_col2 {\n",
       "            background-color:  #105ba4;\n",
       "            color:  #f1f1f1;\n",
       "        }    #T_c336ccfc_4407_11ea_b2da_d89ef318e25erow8_col3 {\n",
       "            background-color:  #08306b;\n",
       "            color:  #f1f1f1;\n",
       "        }    #T_c336ccfc_4407_11ea_b2da_d89ef318e25erow9_col0 {\n",
       "            background-color:  #08306b;\n",
       "            color:  #f1f1f1;\n",
       "        }    #T_c336ccfc_4407_11ea_b2da_d89ef318e25erow9_col1 {\n",
       "            background-color:  #f7fbff;\n",
       "            color:  #000000;\n",
       "        }    #T_c336ccfc_4407_11ea_b2da_d89ef318e25erow9_col2 {\n",
       "            background-color:  #f7fbff;\n",
       "            color:  #000000;\n",
       "        }    #T_c336ccfc_4407_11ea_b2da_d89ef318e25erow9_col3 {\n",
       "            background-color:  #2070b4;\n",
       "            color:  #f1f1f1;\n",
       "        }</style><table id=\"T_c336ccfc_4407_11ea_b2da_d89ef318e25e\" ><thead>    <tr>        <th class=\"blank level0\" ></th>        <th class=\"col_heading level0 col0\" >perf_tr</th>        <th class=\"col_heading level0 col1\" >std_tr</th>        <th class=\"col_heading level0 col2\" >perf_te</th>        <th class=\"col_heading level0 col3\" >std_te</th>    </tr></thead><tbody>\n",
       "                <tr>\n",
       "                        <th id=\"T_c336ccfc_4407_11ea_b2da_d89ef318e25elevel0_row0\" class=\"row_heading level0 row0\" >Nearest Neighbors</th>\n",
       "                        <td id=\"T_c336ccfc_4407_11ea_b2da_d89ef318e25erow0_col0\" class=\"data row0 col0\" >0.7</td>\n",
       "                        <td id=\"T_c336ccfc_4407_11ea_b2da_d89ef318e25erow0_col1\" class=\"data row0 col1\" >0.03</td>\n",
       "                        <td id=\"T_c336ccfc_4407_11ea_b2da_d89ef318e25erow0_col2\" class=\"data row0 col2\" >0.56</td>\n",
       "                        <td id=\"T_c336ccfc_4407_11ea_b2da_d89ef318e25erow0_col3\" class=\"data row0 col3\" >0.02</td>\n",
       "            </tr>\n",
       "            <tr>\n",
       "                        <th id=\"T_c336ccfc_4407_11ea_b2da_d89ef318e25elevel0_row1\" class=\"row_heading level0 row1\" >Linear SVM</th>\n",
       "                        <td id=\"T_c336ccfc_4407_11ea_b2da_d89ef318e25erow1_col0\" class=\"data row1 col0\" >1</td>\n",
       "                        <td id=\"T_c336ccfc_4407_11ea_b2da_d89ef318e25erow1_col1\" class=\"data row1 col1\" >0</td>\n",
       "                        <td id=\"T_c336ccfc_4407_11ea_b2da_d89ef318e25erow1_col2\" class=\"data row1 col2\" >0.6</td>\n",
       "                        <td id=\"T_c336ccfc_4407_11ea_b2da_d89ef318e25erow1_col3\" class=\"data row1 col3\" >0.02</td>\n",
       "            </tr>\n",
       "            <tr>\n",
       "                        <th id=\"T_c336ccfc_4407_11ea_b2da_d89ef318e25elevel0_row2\" class=\"row_heading level0 row2\" >RBF SVM</th>\n",
       "                        <td id=\"T_c336ccfc_4407_11ea_b2da_d89ef318e25erow2_col0\" class=\"data row2 col0\" >1</td>\n",
       "                        <td id=\"T_c336ccfc_4407_11ea_b2da_d89ef318e25erow2_col1\" class=\"data row2 col1\" >0</td>\n",
       "                        <td id=\"T_c336ccfc_4407_11ea_b2da_d89ef318e25erow2_col2\" class=\"data row2 col2\" >0.5</td>\n",
       "                        <td id=\"T_c336ccfc_4407_11ea_b2da_d89ef318e25erow2_col3\" class=\"data row2 col3\" >0</td>\n",
       "            </tr>\n",
       "            <tr>\n",
       "                        <th id=\"T_c336ccfc_4407_11ea_b2da_d89ef318e25elevel0_row3\" class=\"row_heading level0 row3\" >Gaussian Process</th>\n",
       "                        <td id=\"T_c336ccfc_4407_11ea_b2da_d89ef318e25erow3_col0\" class=\"data row3 col0\" >1</td>\n",
       "                        <td id=\"T_c336ccfc_4407_11ea_b2da_d89ef318e25erow3_col1\" class=\"data row3 col1\" >0</td>\n",
       "                        <td id=\"T_c336ccfc_4407_11ea_b2da_d89ef318e25erow3_col2\" class=\"data row3 col2\" >0.5</td>\n",
       "                        <td id=\"T_c336ccfc_4407_11ea_b2da_d89ef318e25erow3_col3\" class=\"data row3 col3\" >0</td>\n",
       "            </tr>\n",
       "            <tr>\n",
       "                        <th id=\"T_c336ccfc_4407_11ea_b2da_d89ef318e25elevel0_row4\" class=\"row_heading level0 row4\" >Decision Tree</th>\n",
       "                        <td id=\"T_c336ccfc_4407_11ea_b2da_d89ef318e25erow4_col0\" class=\"data row4 col0\" >0.99</td>\n",
       "                        <td id=\"T_c336ccfc_4407_11ea_b2da_d89ef318e25erow4_col1\" class=\"data row4 col1\" >0.02</td>\n",
       "                        <td id=\"T_c336ccfc_4407_11ea_b2da_d89ef318e25erow4_col2\" class=\"data row4 col2\" >0.62</td>\n",
       "                        <td id=\"T_c336ccfc_4407_11ea_b2da_d89ef318e25erow4_col3\" class=\"data row4 col3\" >0.04</td>\n",
       "            </tr>\n",
       "            <tr>\n",
       "                        <th id=\"T_c336ccfc_4407_11ea_b2da_d89ef318e25elevel0_row5\" class=\"row_heading level0 row5\" >Random Forest</th>\n",
       "                        <td id=\"T_c336ccfc_4407_11ea_b2da_d89ef318e25erow5_col0\" class=\"data row5 col0\" >0.96</td>\n",
       "                        <td id=\"T_c336ccfc_4407_11ea_b2da_d89ef318e25erow5_col1\" class=\"data row5 col1\" >0.01</td>\n",
       "                        <td id=\"T_c336ccfc_4407_11ea_b2da_d89ef318e25erow5_col2\" class=\"data row5 col2\" >0.54</td>\n",
       "                        <td id=\"T_c336ccfc_4407_11ea_b2da_d89ef318e25erow5_col3\" class=\"data row5 col3\" >0.01</td>\n",
       "            </tr>\n",
       "            <tr>\n",
       "                        <th id=\"T_c336ccfc_4407_11ea_b2da_d89ef318e25elevel0_row6\" class=\"row_heading level0 row6\" >Neural Net</th>\n",
       "                        <td id=\"T_c336ccfc_4407_11ea_b2da_d89ef318e25erow6_col0\" class=\"data row6 col0\" >1</td>\n",
       "                        <td id=\"T_c336ccfc_4407_11ea_b2da_d89ef318e25erow6_col1\" class=\"data row6 col1\" >0</td>\n",
       "                        <td id=\"T_c336ccfc_4407_11ea_b2da_d89ef318e25erow6_col2\" class=\"data row6 col2\" >0.62</td>\n",
       "                        <td id=\"T_c336ccfc_4407_11ea_b2da_d89ef318e25erow6_col3\" class=\"data row6 col3\" >0.01</td>\n",
       "            </tr>\n",
       "            <tr>\n",
       "                        <th id=\"T_c336ccfc_4407_11ea_b2da_d89ef318e25elevel0_row7\" class=\"row_heading level0 row7\" >AdaBoost</th>\n",
       "                        <td id=\"T_c336ccfc_4407_11ea_b2da_d89ef318e25erow7_col0\" class=\"data row7 col0\" >1</td>\n",
       "                        <td id=\"T_c336ccfc_4407_11ea_b2da_d89ef318e25erow7_col1\" class=\"data row7 col1\" >0</td>\n",
       "                        <td id=\"T_c336ccfc_4407_11ea_b2da_d89ef318e25erow7_col2\" class=\"data row7 col2\" >0.62</td>\n",
       "                        <td id=\"T_c336ccfc_4407_11ea_b2da_d89ef318e25erow7_col3\" class=\"data row7 col3\" >0.02</td>\n",
       "            </tr>\n",
       "            <tr>\n",
       "                        <th id=\"T_c336ccfc_4407_11ea_b2da_d89ef318e25elevel0_row8\" class=\"row_heading level0 row8\" >Naive Bayes</th>\n",
       "                        <td id=\"T_c336ccfc_4407_11ea_b2da_d89ef318e25erow8_col0\" class=\"data row8 col0\" >0.78</td>\n",
       "                        <td id=\"T_c336ccfc_4407_11ea_b2da_d89ef318e25erow8_col1\" class=\"data row8 col1\" >0.04</td>\n",
       "                        <td id=\"T_c336ccfc_4407_11ea_b2da_d89ef318e25erow8_col2\" class=\"data row8 col2\" >0.6</td>\n",
       "                        <td id=\"T_c336ccfc_4407_11ea_b2da_d89ef318e25erow8_col3\" class=\"data row8 col3\" >0.04</td>\n",
       "            </tr>\n",
       "            <tr>\n",
       "                        <th id=\"T_c336ccfc_4407_11ea_b2da_d89ef318e25elevel0_row9\" class=\"row_heading level0 row9\" >QDA</th>\n",
       "                        <td id=\"T_c336ccfc_4407_11ea_b2da_d89ef318e25erow9_col0\" class=\"data row9 col0\" >1</td>\n",
       "                        <td id=\"T_c336ccfc_4407_11ea_b2da_d89ef318e25erow9_col1\" class=\"data row9 col1\" >0</td>\n",
       "                        <td id=\"T_c336ccfc_4407_11ea_b2da_d89ef318e25erow9_col2\" class=\"data row9 col2\" >0.5</td>\n",
       "                        <td id=\"T_c336ccfc_4407_11ea_b2da_d89ef318e25erow9_col3\" class=\"data row9 col3\" >0.03</td>\n",
       "            </tr>\n",
       "    </tbody></table>"
      ],
      "text/plain": [
       "<pandas.io.formats.style.Styler at 0x7f17acc7d518>"
      ]
     },
     "execution_count": 29,
     "metadata": {},
     "output_type": "execute_result"
    }
   ],
   "source": [
    "compar_results = systematic_model_experiment(data_df, model_name, model_list, sklearn_metric)\n",
    "compar_results.round(2).style.background_gradient(cmap='Blues')"
   ]
  },
  {
   "cell_type": "markdown",
   "metadata": {},
   "source": [
    "<div style=\"background:#FFFFAA\">\n",
    "    Here you need to do something!\n",
    "</div>\n",
    "<b>Find the method performing best on test data.</b>"
   ]
  },
  {
   "cell_type": "code",
   "execution_count": 31,
   "metadata": {},
   "outputs": [
    {
     "ename": "NameError",
     "evalue": "name 'compare_results' is not defined",
     "output_type": "error",
     "traceback": [
      "\u001b[0;31m---------------------------------------------------------------------------\u001b[0m",
      "\u001b[0;31mNameError\u001b[0m                                 Traceback (most recent call last)",
      "\u001b[0;32m<ipython-input-31-2d8ee0d40a67>\u001b[0m in \u001b[0;36m<module>\u001b[0;34m\u001b[0m\n\u001b[1;32m      1\u001b[0m \u001b[0;31m# Find the method performing best on test data\u001b[0m\u001b[0;34m\u001b[0m\u001b[0;34m\u001b[0m\u001b[0;34m\u001b[0m\u001b[0m\n\u001b[0;32m----> 2\u001b[0;31m \u001b[0mbest_method\u001b[0m \u001b[0;34m=\u001b[0m \u001b[0mcompare_results\u001b[0m\u001b[0;34m.\u001b[0m\u001b[0mperf_te\u001b[0m\u001b[0;34m.\u001b[0m\u001b[0midxmax\u001b[0m\u001b[0;34m(\u001b[0m\u001b[0;34m)\u001b[0m \u001b[0;31m# REPLACE THIS; try not to just do this by hand, apply idxmax to the series perf_te\u001b[0m\u001b[0;34m\u001b[0m\u001b[0;34m\u001b[0m\u001b[0m\n\u001b[0m\u001b[1;32m      3\u001b[0m \u001b[0mprint\u001b[0m\u001b[0;34m(\u001b[0m\u001b[0;34m\"Best method: {}\"\u001b[0m\u001b[0;34m.\u001b[0m\u001b[0mformat\u001b[0m\u001b[0;34m(\u001b[0m\u001b[0mbest_method\u001b[0m\u001b[0;34m)\u001b[0m\u001b[0;34m)\u001b[0m\u001b[0;34m\u001b[0m\u001b[0;34m\u001b[0m\u001b[0m\n",
      "\u001b[0;31mNameError\u001b[0m: name 'compare_results' is not defined"
     ]
    }
   ],
   "source": [
    "# Find the method performing best on test data\n",
    "best_method = compare_results.perf_te.idxmax() # REPLACE THIS; try not to just do this by hand, apply idxmax to the series perf_te\n",
    "print(\"Best method: {}\".format(best_method))"
   ]
  },
  {
   "cell_type": "markdown",
   "metadata": {},
   "source": [
    "#### Over-fitting and under-fitting\n",
    "There may be two reasons why a model performs poorly. It could either be <b>over-fitting</b> or <b>under-fitting</b> data. Under-fitting means that the model is not powerful enough to even learn the training data while over-fitting means that the model is so powerful that it can learn super-well the training data, but it might not generalize well to new test data.\n",
    "\n",
    "Of the models performing poorly (having TEST performance UNDER THE MEDIAN test performance), we highlight:\n",
    "* models with TRAINING performance UNDER THE MEDIAN training performance (<b>under-fitted</b>)\n",
    "* models with TRAINING performance OVER THE MEDIAN (<b>over-fitted</b>)"
   ]
  },
  {
   "cell_type": "code",
   "execution_count": null,
   "metadata": {},
   "outputs": [],
   "source": [
    "# We give you this code, check it in utilities.py of use ??analyze_model_experiments\n",
    "analyze_model_experiments(compar_results)"
   ]
  },
  {
   "cell_type": "markdown",
   "metadata": {},
   "source": [
    "#### Bar graph comparing  results"
   ]
  },
  {
   "cell_type": "code",
   "execution_count": 32,
   "metadata": {},
   "outputs": [
    {
     "data": {
      "text/plain": [
       "Text(0, 0.5, 'balanced_accuracy_score')"
      ]
     },
     "execution_count": 32,
     "metadata": {},
     "output_type": "execute_result"
    },
    {
     "data": {
      "image/png": "[encoded data removed]",
      "text/plain": [
       "<Figure size 432x288 with 1 Axes>"
      ]
     },
     "metadata": {
      "needs_background": "light"
     },
     "output_type": "display_data"
    }
   ],
   "source": [
    "compar_results[['perf_tr', 'perf_te']].plot.bar()\n",
    "plt.ylim(0.5, 1)\n",
    "plt.ylabel(sklearn_metric.__name__)"
   ]
  },
  {
   "cell_type": "markdown",
   "metadata": {},
   "source": [
    "<div style=\"background:#FFFFAA\">\n",
    "    Here you need to do something!\n",
    "</div>\n",
    "<b>Your final answers to question 4:</a> </b>Which methods overfits or underfit?</b>"
   ]
  },
  {
   "cell_type": "code",
   "execution_count": 36,
   "metadata": {},
   "outputs": [
    {
     "name": "stdout",
     "output_type": "stream",
     "text": [
      "Over_fitted models:\n",
      "['Linear SVM', 'Gaussian Process', 'Neural Net']\n",
      "Under_fitted models:\n",
      "['RBF SVM', 'Naive Bayes']\n",
      "7\n",
      "3\n"
     ]
    },
    {
     "data": {
      "text/html": [
       "<div style=\"background:#FF0000\">BOOOOH<br>:-(</div>"
      ],
      "text/plain": [
       "<IPython.core.display.HTML object>"
      ]
     },
     "metadata": {},
     "output_type": "display_data"
    }
   ],
   "source": [
    "# Put your answer to question 4 here\n",
    "#If the test performance is bad but the training performance is good, is the model under-fitting or over-fitting?\n",
    "answer1 = -1 # 0 for under-fitting and 1 for over-fitting\n",
    "#If both are bad, is the model is under-fitting or over-fitting? \n",
    "answer2 = -1 # 0 for under-fitting and 1 for over-fitting\n",
    "# Which models are over-fitted and which ones are under-fitted?\n",
    "overfitted_list = [1,3,6] # Replace by the correct numbers in model_name\n",
    "underfitted_list = [2,8] # Replace by the correct numbers in model_name\n",
    "\n",
    "model_name = [\"Nearest Neighbors\", \"Linear SVM\", \"RBF SVM\", \"Gaussian Process\",\n",
    "         \"Decision Tree\", \"Random Forest\", \"Neural Net\", \"AdaBoost\",\n",
    "         \"Naive Bayes\", \"QDA\"]\n",
    "\n",
    "print(\"Over_fitted models:\")\n",
    "print([model_name[i] for i in overfitted_list])\n",
    "print(\"Under_fitted models:\")\n",
    "print([model_name[i] for i in underfitted_list])\n",
    "# This is the checker code, keep it\n",
    "question = 4\n",
    "answer = answer1-answer2+sum(overfitted_list)-sum(underfitted_list)+model_name.index(best_method)\n",
    "\n",
    "score += check(answer, question)"
   ]
  },
  {
   "cell_type": "markdown",
   "metadata": {},
   "source": [
    "###  Question 5: Dimensionality reduction\n",
    "It is useful to reduce the data dimension (number of features) for two reasons: ease of visualisation and possibly increase in performance. Two approaches are possible:\n",
    "1. Feature selection.\n",
    "1. Feature transforms.\n",
    "\n",
    "In the first case, one tries to select among the original features. In the second case, one first replaces the original features by \"combinations\" of features, then perform selection. Here we give two simple examples: Feature ranking with the <b>Pearson correlation</b> coefficient (as a feature selection method), and <b>Singular Value Decomposition</b> or SVD (as a feature transform method) .\n",
    "\n",
    "In this section, we keep using the <b>CS scaled data</b>. We use as classifier the <b>3-nearest-neighbor</b> model, which seems to have served us well! We begin by showing you how to do simple feature selection, then we'll guide you step-by-step through SVD."
   ]
  },
  {
   "cell_type": "markdown",
   "metadata": {},
   "source": [
    "### Feature selection example\n",
    "We perform feature selection with the Pearson correlation coefficient as follows:\n",
    "* Compute the correlation matrix (we will only use the last column, i.e. correlation of features with the class label to be predicted)\n",
    "* Sort the correlation coefficients (of features and class label)"
   ]
  },
  {
   "cell_type": "markdown",
   "metadata": {},
   "source": [
    "#### Correlation matrix\n",
    "If we did things right, `data_df` should contain the CS data. "
   ]
  },
  {
   "cell_type": "code",
   "execution_count": null,
   "metadata": {},
   "outputs": [],
   "source": [
    "corr = data_df.corr()\n",
    "corr.round(1).style.background_gradient(cmap='coolwarm')"
   ]
  },
  {
   "cell_type": "markdown",
   "metadata": {},
   "source": [
    "#### Sort features"
   ]
  },
  {
   "cell_type": "markdown",
   "metadata": {},
   "source": [
    "Let us first sort all features by the <b>absolute value</b> of the Pearson correlation coefficient. Indeed, variables are informative no matter whether they are correlated or anti-correlated (since it suffices to multiply them by -1 to change the correlation direction)."
   ]
  },
  {
   "cell_type": "code",
   "execution_count": null,
   "metadata": {},
   "outputs": [],
   "source": [
    "sval = corr['fruit'][:-1].abs().sort_values(ascending=False)\n",
    "ranked_columns = sval.index.values\n",
    "print(ranked_columns) "
   ]
  },
  {
   "cell_type": "markdown",
   "metadata": {},
   "source": [
    "We notice that the features that we have constructed in the previous lessons 'R-(G+B)/2' and 'W/H' come in the 5 top most informative features. But there are others. Let us make all scatter plots of pairs of features for the 5 top ranked features."
   ]
  },
  {
   "cell_type": "markdown",
   "metadata": {},
   "source": [
    "#### Visualize top 5 features with PAIRPLOT"
   ]
  },
  {
   "cell_type": "code",
   "execution_count": null,
   "metadata": {},
   "outputs": [],
   "source": [
    "# Make a dataframe with only top five features\n",
    "fruit_name = ['Banana', 'Apple']\n",
    "fruit_list = [fruit_name[int((i+1)/2)] for i in data_df[\"fruit\"].tolist()]\n",
    "col_selected = ranked_columns[0:5]\n",
    "df_5feat = pd.DataFrame.copy(data_df)\n",
    "df_5feat = df_5feat[col_selected]\n",
    "df_5feat['fruit'] = fruit_list\n",
    "df_5feat.head()"
   ]
  },
  {
   "cell_type": "code",
   "execution_count": null,
   "metadata": {},
   "outputs": [],
   "source": [
    "# Show pairplot\n",
    "g = sns.pairplot(df_5feat, hue=\"fruit\", markers=[\"o\", \"s\"], diag_kind=\"hist\")"
   ]
  },
  {
   "cell_type": "markdown",
   "metadata": {},
   "source": [
    "#### Learning curves\n",
    "We want to eveluate the effect of varying the number of features. To that end, we build learning curves = performance as a function of feature number."
   ]
  },
  {
   "cell_type": "code",
   "execution_count": null,
   "metadata": {},
   "outputs": [],
   "source": [
    "# We use the 3 nearest neighbor classifier to create the learnign curve\n",
    "sklearn_model = KNeighborsClassifier(n_neighbors=3)\n",
    "feat_lc_df = feature_learning_curve(data_df, sklearn_model, sklearn_metric)"
   ]
  },
  {
   "cell_type": "code",
   "execution_count": null,
   "metadata": {},
   "outputs": [],
   "source": [
    "# Plot the learning curve\n",
    "plt.errorbar(feat_lc_df.index+1, feat_lc_df['perf_tr'], yerr=feat_lc_df['std_tr'], label='Training set')\n",
    "plt.errorbar(feat_lc_df.index+1, feat_lc_df['perf_te'], yerr=feat_lc_df['std_te'], label='Test set')\n",
    "plt.xticks(np.arange(1, 22, 1)) \n",
    "plt.xlabel('Number of features')\n",
    "plt.ylabel(sklearn_metric.__name__)\n",
    "plt.legend(loc='lower right')"
   ]
  },
  {
   "cell_type": "markdown",
   "metadata": {},
   "source": [
    "We see the, with 5 features, it is about as good as it gets, given the error bars."
   ]
  },
  {
   "cell_type": "markdown",
   "metadata": {},
   "source": [
    "### Singular Value Decomposition\n",
    "Let us move now to the second way of reducing dimensionality: feature transforms.\n",
    "When we use SVD, the feature transform consists in finding the \"principal directions\"(directions of largest variance). The method is also known as Pricipal Component Analysis (PCA). I simply used my search engine and typed the keywords \"pandas svd\". I found a nice tutorial on <a href=\"https://machinelearningmastery.com/singular-value-decomposition-for-machine-learning/\">this page</a> and a step-by-step procedure on <a href=\"https://cmdlinetips.com/2019/05/singular-value-decomposition-svd-in-python/\">this page</a>. \n",
    "\n",
    "We will guide you step-by-step:\n",
    "* Create a dataframe called `df_scaled` containing the standardized columns, except the last one (tip: just use `drop` to eliminate the last column).\n",
    "* Perform a singular value decomposition of `df_scaled` and call the resulting matrices u, s, v.\n",
    "* Make a scree plot of the eigen values (square of the singular values). Save the plot in file 'svd_scree_plot.png'.\n",
    "* Create a new dataframe `svd_df` with the two singular values as columns and the fruit type as index.\n",
    "* Make pairwise scatter plots of the three first singular values.\n",
    "\n",
    "Then the question to answer will be to compute the performances obtained with the 3 nearest neighbor method using the first 3 singular values."
   ]
  },
  {
   "cell_type": "markdown",
   "metadata": {},
   "source": [
    "<div style=\"background:#FFFFAA\">\n",
    "    Here you need to do something!\n",
    "</div>"
   ]
  },
  {
   "cell_type": "code",
   "execution_count": null,
   "metadata": {},
   "outputs": [],
   "source": [
    "# Make use the CS scaled dataset (this should be already loaded in data_df,\n",
    "# if you did things correctly in previous questions)\n",
    "# To obtain df_scaled, remove the last column of data_df.\n",
    "\n",
    "df_scaled = df_scaled2[{\"redness\", \"elongation\"}] # REPLACE THIS BY THE CORRECT ANSWER\n",
    "\n",
    "df_scaled.head()"
   ]
  },
  {
   "cell_type": "markdown",
   "metadata": {},
   "source": [
    "#### Perform singular value decomposition"
   ]
  },
  {
   "cell_type": "code",
   "execution_count": null,
   "metadata": {},
   "outputs": [],
   "source": [
    "u, s, v = np.linalg.svd(df_scaled, full_matrices=True)\n",
    "print('U {}'.format(u.shape))\n",
    "print('S {}'.format(s.shape))\n",
    "print('V {}'.format(v.shape))"
   ]
  },
  {
   "cell_type": "markdown",
   "metadata": {},
   "source": [
    "#### Make a scree plot\n",
    "This plot allows us to decide how many components to keep, considering the total variance explained."
   ]
  },
  {
   "cell_type": "code",
   "execution_count": null,
   "metadata": {},
   "outputs": [],
   "source": [
    "var_explained = np.round(s**2/np.sum(s**2), decimals=3)\n",
    "sns.barplot(x=list(range(1,len(var_explained)+1)),\n",
    "            y=var_explained, color=\"limegreen\")\n",
    "plt.xlabel('SVs', fontsize=16)\n",
    "plt.ylabel('Percent Variance Explained', fontsize=16)\n",
    "plt.savefig('svd_scree_plot.png',dpi=100)"
   ]
  },
  {
   "cell_type": "markdown",
   "metadata": {},
   "source": [
    "We see that after 3 features there is a big drop in variance. So tentatively, let us keep the top three components."
   ]
  },
  {
   "cell_type": "markdown",
   "metadata": {},
   "source": [
    "#### Pairplot"
   ]
  },
  {
   "cell_type": "code",
   "execution_count": null,
   "metadata": {},
   "outputs": [],
   "source": [
    "# Create a dataframe with only the three first principal components\n",
    "fruit_name = ['Banana', 'Apple']\n",
    "fruit_list = [fruit_name[int((i+1)/2)] for i in df[\"fruit\"].tolist()]\n",
    "fnum=3\n",
    "labels= ['SV'+str(i) for i in range(1,fnum+1)]\n",
    "df_3svd = pd.DataFrame(u[:,0:fnum], columns=labels)\n",
    "df_3svd['fruit'] = fruit_list\n",
    "df_3svd.head()"
   ]
  },
  {
   "cell_type": "markdown",
   "metadata": {},
   "source": [
    "<div style=\"background:#FFFFAA\">\n",
    "    Here you need to do something!\n",
    "</div>"
   ]
  },
  {
   "cell_type": "code",
   "execution_count": null,
   "metadata": {},
   "outputs": [],
   "source": [
    "# Show the pairplot of svd_df"
   ]
  },
  {
   "cell_type": "markdown",
   "metadata": {},
   "source": [
    "#### Evaluate df_3svd: \n",
    "This piece of code will serve you later to answer question 5!"
   ]
  },
  {
   "cell_type": "code",
   "execution_count": null,
   "metadata": {},
   "outputs": [],
   "source": [
    "# We use the function df_cross_validate that we already used in question 3 to evaluate svd_df\n",
    "df_3svd['fruit'] = df.iloc[:, -1].to_numpy() # We replace the target values by numbers\n",
    "p_tr, s_tr, p_te, s_te = df_cross_validate(df_3svd, sklearn_model, sklearn_metric)\n",
    "metric_name = sklearn_metric.__name__.upper()\n",
    "print(\"AVERAGE TRAINING {0:s} +- STD: {1:.2f} +- {2:.2f}\".format(metric_name, p_tr, s_tr))\n",
    "print(\"AVERAGE TEST {0:s} +- STD: {1:.2f} +- {2:.2f}\".format(metric_name, p_te, s_te))"
   ]
  },
  {
   "cell_type": "markdown",
   "metadata": {},
   "source": [
    "#### SVD learning curve:"
   ]
  },
  {
   "cell_type": "code",
   "execution_count": null,
   "metadata": {},
   "outputs": [],
   "source": [
    "# We compute the learning curve for the 3-nearest neighbor classifier ...\n",
    "sklearn_model = KNeighborsClassifier(n_neighbors=3)\n",
    "feat_lc_df = svd_learning_curve(data_df, sklearn_model, sklearn_metric)\n",
    "\n",
    "# and we plot the learning curve\n",
    "plt.errorbar(feat_lc_df.index+1, feat_lc_df['perf_tr'], yerr=feat_lc_df['std_tr'], label='Training set')\n",
    "plt.errorbar(feat_lc_df.index+1, feat_lc_df['perf_te'], yerr=feat_lc_df['std_te'], label='Test set')\n",
    "plt.xticks(np.arange(1, 22, 1)) \n",
    "plt.xlabel('Number of principal compoments')\n",
    "plt.ylabel(sklearn_metric.__name__)\n",
    "plt.legend(loc='lower right')"
   ]
  },
  {
   "cell_type": "markdown",
   "metadata": {},
   "source": [
    "#### Comparison of dimensionality reduction methods "
   ]
  },
  {
   "cell_type": "markdown",
   "metadata": {},
   "source": [
    "Even though features 4 and 5 did not seem to explain a lot of additional variance, there seems to be an optimum at 4 or 5 features. Compare the performances of df_5feat and df_5svd (with 5 top components). Is one significantly better then the other?"
   ]
  },
  {
   "cell_type": "markdown",
   "metadata": {},
   "source": [
    "<div style=\"background:#FFFFAA\">\n",
    "    Here you need to do something!\n",
    "</div>"
   ]
  },
  {
   "cell_type": "code",
   "execution_count": null,
   "metadata": {},
   "outputs": [],
   "source": [
    "df_5svd = df_3svd # Replace with the correct dataframe having 5 principal components\n",
    "\n",
    "# Put here the code to compute the performances of df_5feat and df_5svd\n",
    "fnum=5\n",
    "labels= ['SV'+str(i) for i in range(1,fnum+1)]\n",
    "df_5svd = pd.DataFrame(u[:,0:fnum], columns=labels)\n",
    "df_5svd['fruit'] = df.iloc[:, -1].to_numpy() # Need numeric values\n",
    "p_tr_5svd, s_tr_5svd, p_te_5svd, s_te_5svd = 0,0,0,0 # REPLACE THIS\n",
    "p_tr_5feat, s_tr_5feat, p_te_5feat, s_te_5feat = 0,0,0,0 # REPLACE THIS\n",
    "\n",
    "print(\"5FEAT AVERAGE TRAINING {0:s} +- STD: {1:.2f} +- {2:.2f}\".format(metric_name, p_tr_5feat, s_tr_5feat))\n",
    "print(\"5FEAT AVERAGE TEST {0:s} +- STD: {1:.2f} +- {2:.2f}\".format(metric_name, p_te_5feat, s_te_5feat))\n",
    "print(\"5SVD AVERAGE TRAINING {0:s} +- STD: {1:.2f} +- {2:.2f}\".format(metric_name, p_tr_5svd, s_tr_5svd))\n",
    "print(\"5SVD AVERAGE TEST {0:s} +- STD: {1:.2f} +- {2:.2f}\".format(metric_name, p_te_5svd, s_te_5svd))"
   ]
  },
  {
   "cell_type": "code",
   "execution_count": null,
   "metadata": {},
   "outputs": [],
   "source": [
    "#Does one method give significantly better results than the other?\n",
    "answer = -1 # One for yes and 0 for no\n",
    "\n",
    "# This is the checker code, keep it\n",
    "question = 5\n",
    "answer = 0.001*(p_te_5feat-p_te_5svd)/(s_te_5feat+s_te_5svd)\n",
    "score += check(answer, question)"
   ]
  },
  {
   "cell_type": "code",
   "execution_count": 30,
   "metadata": {},
   "outputs": [
    {
     "name": "stdout",
     "output_type": "stream",
     "text": [
      "Your final score is 5 / 5, congratulations!\n"
     ]
    }
   ],
   "source": [
    "print('Your final score is %d / 5, congratulations!' % score)"
   ]
  },
  {
   "cell_type": "markdown",
   "metadata": {},
   "source": [
    "<div style=\"background:#FFFFAA\">\n",
    "<span style=\"color:red\">\n",
    "<br>\n",
    "    To finalize your homework:\n",
    "<b>\n",
    "<ul>\n",
    "    <li> Use  Kernel + Restart and Run all.</li>\n",
    "    <li> Save your notebook.</li>\n",
    "    <li> Push your changes to your GitHub repo with:</li>\n",
    "</ul>   \n",
    "</b>\n",
    "<pre>\n",
    "git add .\n",
    "git commit -m 'my homework is done'\n",
    "git push\n",
    "</pre>\n",
    "<br>\n",
    "</span>\n",
    "</div>"
   ]
  },
  {
   "cell_type": "code",
   "execution_count": null,
   "metadata": {},
   "outputs": [],
   "source": []
  }
 ],
 "metadata": {
  "kernelspec": {
   "display_name": "Python 3",
   "language": "python",
   "name": "python3"
  },
  "language_info": {
   "codemirror_mode": {
    "name": "ipython",
    "version": 3
   },
   "file_extension": ".py",
   "mimetype": "text/x-python",
   "name": "python",
   "nbconvert_exporter": "python",
   "pygments_lexer": "ipython3",
   "version": "3.7.3"
  }
 },
 "nbformat": 4,
 "nbformat_minor": 2
}
